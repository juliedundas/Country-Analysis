{
 "cells": [
  {
   "cell_type": "code",
   "execution_count": 129,
   "metadata": {},
   "outputs": [],
   "source": [
    "#Import dependicies\n",
    "import pandas as pd\n",
    "import matplotlib.pyplot as plt\n",
    "import numpy as np\n",
    "from scipy.stats import linregress\n",
    "import scipy.stats as st\n",
    "import scipy.stats as sts\n",
    "from sklearn.linear_model import LinearRegression"
   ]
  },
  {
   "cell_type": "code",
   "execution_count": 130,
   "metadata": {},
   "outputs": [],
   "source": [
    " # Name of the CSV file\n",
    "file = 'Resources/countries_of_the_world.csv'"
   ]
  },
  {
   "cell_type": "code",
   "execution_count": 131,
   "metadata": {},
   "outputs": [],
   "source": [
    "# The correct encoding must be used to read the CSV in pandas\n",
    "df = pd.read_csv(file, encoding=\"ISO-8859-1\")"
   ]
  },
  {
   "cell_type": "code",
   "execution_count": 132,
   "metadata": {},
   "outputs": [
    {
     "data": {
      "text/html": [
       "<div>\n",
       "<style scoped>\n",
       "    .dataframe tbody tr th:only-of-type {\n",
       "        vertical-align: middle;\n",
       "    }\n",
       "\n",
       "    .dataframe tbody tr th {\n",
       "        vertical-align: top;\n",
       "    }\n",
       "\n",
       "    .dataframe thead th {\n",
       "        text-align: right;\n",
       "    }\n",
       "</style>\n",
       "<table border=\"1\" class=\"dataframe\">\n",
       "  <thead>\n",
       "    <tr style=\"text-align: right;\">\n",
       "      <th></th>\n",
       "      <th>Country</th>\n",
       "      <th>Region</th>\n",
       "      <th>Population</th>\n",
       "      <th>Area (sq. mi.)</th>\n",
       "      <th>Pop. Density (per sq. mi.)</th>\n",
       "      <th>Coastline (coast/area ratio)</th>\n",
       "      <th>Net migration</th>\n",
       "      <th>Infant mortality (per 1000 births)</th>\n",
       "      <th>GDP ($ per capita)</th>\n",
       "      <th>Literacy (%)</th>\n",
       "      <th>Phones (per 1000)</th>\n",
       "      <th>Arable (%)</th>\n",
       "      <th>Crops (%)</th>\n",
       "      <th>Other (%)</th>\n",
       "      <th>Climate</th>\n",
       "      <th>Birthrate</th>\n",
       "      <th>Deathrate</th>\n",
       "      <th>Agriculture</th>\n",
       "      <th>Industry</th>\n",
       "      <th>Service</th>\n",
       "    </tr>\n",
       "  </thead>\n",
       "  <tbody>\n",
       "    <tr>\n",
       "      <td>0</td>\n",
       "      <td>Afghanistan</td>\n",
       "      <td>ASIA (EX. NEAR EAST)</td>\n",
       "      <td>31056997</td>\n",
       "      <td>647500</td>\n",
       "      <td>48,0</td>\n",
       "      <td>0,00</td>\n",
       "      <td>23,06</td>\n",
       "      <td>163,07</td>\n",
       "      <td>700.0</td>\n",
       "      <td>36,0</td>\n",
       "      <td>3,2</td>\n",
       "      <td>12,13</td>\n",
       "      <td>0,22</td>\n",
       "      <td>87,65</td>\n",
       "      <td>1</td>\n",
       "      <td>46,6</td>\n",
       "      <td>20,34</td>\n",
       "      <td>0,38</td>\n",
       "      <td>0,24</td>\n",
       "      <td>0,38</td>\n",
       "    </tr>\n",
       "    <tr>\n",
       "      <td>1</td>\n",
       "      <td>Albania</td>\n",
       "      <td>EASTERN EUROPE</td>\n",
       "      <td>3581655</td>\n",
       "      <td>28748</td>\n",
       "      <td>124,6</td>\n",
       "      <td>1,26</td>\n",
       "      <td>-4,93</td>\n",
       "      <td>21,52</td>\n",
       "      <td>4500.0</td>\n",
       "      <td>86,5</td>\n",
       "      <td>71,2</td>\n",
       "      <td>21,09</td>\n",
       "      <td>4,42</td>\n",
       "      <td>74,49</td>\n",
       "      <td>3</td>\n",
       "      <td>15,11</td>\n",
       "      <td>5,22</td>\n",
       "      <td>0,232</td>\n",
       "      <td>0,188</td>\n",
       "      <td>0,579</td>\n",
       "    </tr>\n",
       "    <tr>\n",
       "      <td>2</td>\n",
       "      <td>Algeria</td>\n",
       "      <td>NORTHERN AFRICA</td>\n",
       "      <td>32930091</td>\n",
       "      <td>2381740</td>\n",
       "      <td>13,8</td>\n",
       "      <td>0,04</td>\n",
       "      <td>-0,39</td>\n",
       "      <td>31</td>\n",
       "      <td>6000.0</td>\n",
       "      <td>70,0</td>\n",
       "      <td>78,1</td>\n",
       "      <td>3,22</td>\n",
       "      <td>0,25</td>\n",
       "      <td>96,53</td>\n",
       "      <td>1</td>\n",
       "      <td>17,14</td>\n",
       "      <td>4,61</td>\n",
       "      <td>0,101</td>\n",
       "      <td>0,6</td>\n",
       "      <td>0,298</td>\n",
       "    </tr>\n",
       "    <tr>\n",
       "      <td>3</td>\n",
       "      <td>American Samoa</td>\n",
       "      <td>OCEANIA</td>\n",
       "      <td>57794</td>\n",
       "      <td>199</td>\n",
       "      <td>290,4</td>\n",
       "      <td>58,29</td>\n",
       "      <td>-20,71</td>\n",
       "      <td>9,27</td>\n",
       "      <td>8000.0</td>\n",
       "      <td>97,0</td>\n",
       "      <td>259,5</td>\n",
       "      <td>10</td>\n",
       "      <td>15</td>\n",
       "      <td>75</td>\n",
       "      <td>2</td>\n",
       "      <td>22,46</td>\n",
       "      <td>3,27</td>\n",
       "      <td>NaN</td>\n",
       "      <td>NaN</td>\n",
       "      <td>NaN</td>\n",
       "    </tr>\n",
       "    <tr>\n",
       "      <td>4</td>\n",
       "      <td>Andorra</td>\n",
       "      <td>WESTERN EUROPE</td>\n",
       "      <td>71201</td>\n",
       "      <td>468</td>\n",
       "      <td>152,1</td>\n",
       "      <td>0,00</td>\n",
       "      <td>6,6</td>\n",
       "      <td>4,05</td>\n",
       "      <td>19000.0</td>\n",
       "      <td>100,0</td>\n",
       "      <td>497,2</td>\n",
       "      <td>2,22</td>\n",
       "      <td>0</td>\n",
       "      <td>97,78</td>\n",
       "      <td>3</td>\n",
       "      <td>8,71</td>\n",
       "      <td>6,25</td>\n",
       "      <td>NaN</td>\n",
       "      <td>NaN</td>\n",
       "      <td>NaN</td>\n",
       "    </tr>\n",
       "  </tbody>\n",
       "</table>\n",
       "</div>"
      ],
      "text/plain": [
       "           Country                               Region  Population  \\\n",
       "0     Afghanistan         ASIA (EX. NEAR EAST)             31056997   \n",
       "1         Albania   EASTERN EUROPE                          3581655   \n",
       "2         Algeria   NORTHERN AFRICA                        32930091   \n",
       "3  American Samoa   OCEANIA                                   57794   \n",
       "4         Andorra   WESTERN EUROPE                            71201   \n",
       "\n",
       "   Area (sq. mi.) Pop. Density (per sq. mi.) Coastline (coast/area ratio)  \\\n",
       "0          647500                       48,0                         0,00   \n",
       "1           28748                      124,6                         1,26   \n",
       "2         2381740                       13,8                         0,04   \n",
       "3             199                      290,4                        58,29   \n",
       "4             468                      152,1                         0,00   \n",
       "\n",
       "  Net migration Infant mortality (per 1000 births)  GDP ($ per capita)  \\\n",
       "0         23,06                             163,07               700.0   \n",
       "1         -4,93                              21,52              4500.0   \n",
       "2         -0,39                                 31              6000.0   \n",
       "3        -20,71                               9,27              8000.0   \n",
       "4           6,6                               4,05             19000.0   \n",
       "\n",
       "  Literacy (%) Phones (per 1000) Arable (%) Crops (%) Other (%) Climate  \\\n",
       "0         36,0               3,2      12,13      0,22     87,65       1   \n",
       "1         86,5              71,2      21,09      4,42     74,49       3   \n",
       "2         70,0              78,1       3,22      0,25     96,53       1   \n",
       "3         97,0             259,5         10        15        75       2   \n",
       "4        100,0             497,2       2,22         0     97,78       3   \n",
       "\n",
       "  Birthrate Deathrate Agriculture Industry Service  \n",
       "0      46,6     20,34        0,38     0,24    0,38  \n",
       "1     15,11      5,22       0,232    0,188   0,579  \n",
       "2     17,14      4,61       0,101      0,6   0,298  \n",
       "3     22,46      3,27         NaN      NaN     NaN  \n",
       "4      8,71      6,25         NaN      NaN     NaN  "
      ]
     },
     "execution_count": 132,
     "metadata": {},
     "output_type": "execute_result"
    }
   ],
   "source": [
    "#Preview the dataframe\n",
    "df.head()"
   ]
  },
  {
   "cell_type": "code",
   "execution_count": 133,
   "metadata": {},
   "outputs": [],
   "source": [
    "#Create a dataframe with just the data that you need to show the area of each country\n",
    "area_df = df[['Country','Region','Area (sq. mi.)']]\n",
    "#area_df\n",
    "area_df_grouped = area_df.groupby(['Region'])\n",
    "#area_df_grouped.head()"
   ]
  },
  {
   "cell_type": "code",
   "execution_count": 134,
   "metadata": {},
   "outputs": [],
   "source": [
    "#Consolidate the DF to region and area\n",
    "area_totaled = area_df_grouped.sum()['Area (sq. mi.)']\n",
    "#area_totaled\n",
    "area_totaled_df = area_totaled.reset_index()\n",
    "#area_totaled_df"
   ]
  },
  {
   "cell_type": "code",
   "execution_count": 135,
   "metadata": {
    "scrolled": true
   },
   "outputs": [
    {
     "data": {
      "image/png": "[encoded data removed]",
      "text/plain": [
       "<Figure size 432x432 with 1 Axes>"
      ]
     },
     "metadata": {},
     "output_type": "display_data"
    }
   ],
   "source": [
    "#Create a pie graph that displayed the data from the area dataframe\n",
    "plot = area_totaled_df.plot.pie(y='Area (sq. mi.)', figsize=(6, 6), labels=area_totaled_df['Region'], \n",
    "                                autopct=\"%1.1f%%\", shadow=True, startangle=140).legend(bbox_to_anchor=(1.1, 1))\n",
    "\n",
    "plt.savefig('areapie')"
   ]
  },
  {
   "cell_type": "code",
   "execution_count": 136,
   "metadata": {},
   "outputs": [],
   "source": [
    "#Create a dataframe from the original data that includes country, region, literacy %, phones per 1000, and population\n",
    "new_df = df[['Country','Region','Population', 'Literacy (%)', 'Phones (per 1000)']]\n",
    "new_df.head()\n",
    "\n",
    "#Convert commas to decimals for literacy % and phones per 1000\n",
    "literacy_converted= new_df['Literacy (%)'].str.replace(',','.')\n",
    "literacy =  literacy_converted.astype(float)\n",
    "phones_converted=new_df['Phones (per 1000)'].str.replace(',','.')\n",
    "phones =  phones_converted.astype(float)\n",
    "country = new_df['Country']"
   ]
  },
  {
   "cell_type": "code",
   "execution_count": 169,
   "metadata": {},
   "outputs": [],
   "source": [
    "#Create DF to show just the columns you will plot\n",
    "phone_literacy_df = pd.DataFrame({'Country': country, 'Literacy': literacy, 'Phones': phones})\n",
    "#phone_literacy_df\n",
    "\n",
    "#Remove all rows that do not have value:\n",
    "phone_literacy_filtered = phone_literacy_df.dropna()\n",
    "#print(len(phone_literacy_filtered))\n",
    "#phone_literacy_filtered\n",
    "\n",
    "#Create DF for only rows that are numeric:\n",
    "phone_literacy_numeric = phone_literacy_filtered[['Literacy', 'Phones']]\n",
    "#print(phone_literacy_numeric)\n",
    "phone_literacy_numeric"
   ]
  },
  {
   "cell_type": "code",
   "execution_count": 138,
   "metadata": {},
   "outputs": [],
   "source": [
    "#Create two separate list variables for the x and y axis - one for country vs literacy % and one for country vs phones per 1000\n",
    "literacy = phone_literacy_numeric['Literacy']\n",
    "phones = phone_literacy_numeric['Phones']\n",
    "#print(literacy)\n",
    "#print(phones)"
   ]
  },
  {
   "cell_type": "code",
   "execution_count": 139,
   "metadata": {},
   "outputs": [
    {
     "data": {
      "image/png": "[encoded data removed]",
      "text/plain": [
       "<Figure size 432x288 with 1 Axes>"
      ]
     },
     "metadata": {
      "needs_background": "light"
     },
     "output_type": "display_data"
    }
   ],
   "source": [
    "#Graph the data in a scatter plot\n",
    "plt.scatter(literacy, phones, marker=\"o\", facecolors=\"red\", edgecolors=\"black\", alpha=0.75)\n",
    "plt.xlabel('Literacy %')\n",
    "plt.ylabel('Phones (per 1000)')\n",
    "plt.title('Phones per 1000 People vs Literacy Percentage Across the World')\n",
    "plt.figsize=(200,200)\n",
    "\n",
    "# format the x and y ticks\n",
    "#plt.xticks([]),plt.yticks([])\n",
    "plt.xlim(0,100)\n",
    "plt.ylim(0,1000)\n",
    "plt.show()\n",
    "\n",
    "#correlation = st.pearsonr(literacy,phones)\n",
    "#print(correlation)"
   ]
  },
  {
   "cell_type": "code",
   "execution_count": 140,
   "metadata": {},
   "outputs": [
    {
     "name": "stdout",
     "output_type": "stream",
     "text": [
      "y = 6.65x + -325.28\n"
     ]
    },
    {
     "data": {
      "image/png": "[encoded data removed]",
      "text/plain": [
       "<Figure size 432x288 with 1 Axes>"
      ]
     },
     "metadata": {
      "needs_background": "light"
     },
     "output_type": "display_data"
    }
   ],
   "source": [
    "#Create a regression across the above scatter plot\n",
    "(slope, intercept, rvalue, pvalue, stderr) = linregress(literacy, phones)\n",
    "regress_values = literacy * slope + intercept\n",
    "line_eq = \"y = \" + str(round(slope,2)) + \"x + \" + str(round(intercept,2))\n",
    "plt.scatter(literacy, phones, marker=\"o\", facecolors=\"red\", edgecolors=\"black\", alpha=0.75)\n",
    "print(line_eq)\n",
    "plt.plot(literacy,regress_values)\n",
    "plt.annotate(line_eq,(20,700),fontsize=15,color=\"blue\")\n",
    "plt.ylabel('Phones (per 1000))')\n",
    "plt.title('Phones per 1000 People vs Literacy Percentage Across the World')\n",
    "plt.figsize=(200,200)\n",
    "plt.show()"
   ]
  },
  {
   "cell_type": "code",
   "execution_count": 151,
   "metadata": {},
   "outputs": [
    {
     "data": {
      "text/html": [
       "<div>\n",
       "<style scoped>\n",
       "    .dataframe tbody tr th:only-of-type {\n",
       "        vertical-align: middle;\n",
       "    }\n",
       "\n",
       "    .dataframe tbody tr th {\n",
       "        vertical-align: top;\n",
       "    }\n",
       "\n",
       "    .dataframe thead th {\n",
       "        text-align: right;\n",
       "    }\n",
       "</style>\n",
       "<table border=\"1\" class=\"dataframe\">\n",
       "  <thead>\n",
       "    <tr style=\"text-align: right;\">\n",
       "      <th></th>\n",
       "      <th>Country</th>\n",
       "      <th>Region</th>\n",
       "      <th>Net migration</th>\n",
       "    </tr>\n",
       "  </thead>\n",
       "  <tbody>\n",
       "    <tr>\n",
       "      <td>0</td>\n",
       "      <td>Afghanistan</td>\n",
       "      <td>ASIA (EX. NEAR EAST)</td>\n",
       "      <td>23,06</td>\n",
       "    </tr>\n",
       "    <tr>\n",
       "      <td>1</td>\n",
       "      <td>Albania</td>\n",
       "      <td>EASTERN EUROPE</td>\n",
       "      <td>-4,93</td>\n",
       "    </tr>\n",
       "    <tr>\n",
       "      <td>2</td>\n",
       "      <td>Algeria</td>\n",
       "      <td>NORTHERN AFRICA</td>\n",
       "      <td>-0,39</td>\n",
       "    </tr>\n",
       "    <tr>\n",
       "      <td>3</td>\n",
       "      <td>American Samoa</td>\n",
       "      <td>OCEANIA</td>\n",
       "      <td>-20,71</td>\n",
       "    </tr>\n",
       "    <tr>\n",
       "      <td>4</td>\n",
       "      <td>Andorra</td>\n",
       "      <td>WESTERN EUROPE</td>\n",
       "      <td>6,6</td>\n",
       "    </tr>\n",
       "  </tbody>\n",
       "</table>\n",
       "</div>"
      ],
      "text/plain": [
       "           Country                               Region Net migration\n",
       "0     Afghanistan         ASIA (EX. NEAR EAST)                  23,06\n",
       "1         Albania   EASTERN EUROPE                              -4,93\n",
       "2         Algeria   NORTHERN AFRICA                             -0,39\n",
       "3  American Samoa   OCEANIA                                    -20,71\n",
       "4         Andorra   WESTERN EUROPE                                6,6"
      ]
     },
     "execution_count": 151,
     "metadata": {},
     "output_type": "execute_result"
    }
   ],
   "source": [
    "#Create dataframe with Country, Region, and Net Migration\n",
    "df_data = df[['Country', 'Region', 'Net migration']]\n",
    "df_data.head()"
   ]
  },
  {
   "cell_type": "code",
   "execution_count": 152,
   "metadata": {},
   "outputs": [],
   "source": [
    "#Convert commas to decimals for net migration\n",
    "migration_converted= df_data['Net migration'].str.replace(',','.')\n",
    "migration =  migration_converted.astype(float)\n",
    "country = df_data['Country']\n",
    "region = df_data['Region']"
   ]
  },
  {
   "cell_type": "code",
   "execution_count": 177,
   "metadata": {},
   "outputs": [],
   "source": [
    "#Convert values into new dataframe\n",
    "migration_df = pd.DataFrame({'Country': country, 'Region': region, 'Net Migration': migration})\n",
    "#migration_df"
   ]
  },
  {
   "cell_type": "code",
   "execution_count": 154,
   "metadata": {},
   "outputs": [
    {
     "data": {
      "text/html": [
       "<div>\n",
       "<style scoped>\n",
       "    .dataframe tbody tr th:only-of-type {\n",
       "        vertical-align: middle;\n",
       "    }\n",
       "\n",
       "    .dataframe tbody tr th {\n",
       "        vertical-align: top;\n",
       "    }\n",
       "\n",
       "    .dataframe thead th {\n",
       "        text-align: right;\n",
       "    }\n",
       "</style>\n",
       "<table border=\"1\" class=\"dataframe\">\n",
       "  <thead>\n",
       "    <tr style=\"text-align: right;\">\n",
       "      <th></th>\n",
       "      <th>Region</th>\n",
       "      <th>Net Migration</th>\n",
       "    </tr>\n",
       "  </thead>\n",
       "  <tbody>\n",
       "    <tr>\n",
       "      <td>0</td>\n",
       "      <td>ASIA (EX. NEAR EAST)</td>\n",
       "      <td>1.372500</td>\n",
       "    </tr>\n",
       "    <tr>\n",
       "      <td>1</td>\n",
       "      <td>BALTICS</td>\n",
       "      <td>-2.033333</td>\n",
       "    </tr>\n",
       "    <tr>\n",
       "      <td>2</td>\n",
       "      <td>C.W. OF IND. STATES</td>\n",
       "      <td>-2.033333</td>\n",
       "    </tr>\n",
       "    <tr>\n",
       "      <td>3</td>\n",
       "      <td>EASTERN EUROPE</td>\n",
       "      <td>-0.647500</td>\n",
       "    </tr>\n",
       "    <tr>\n",
       "      <td>4</td>\n",
       "      <td>LATIN AMER. &amp; CARIB</td>\n",
       "      <td>-1.494444</td>\n",
       "    </tr>\n",
       "  </tbody>\n",
       "</table>\n",
       "</div>"
      ],
      "text/plain": [
       "                                Region  Net Migration\n",
       "0        ASIA (EX. NEAR EAST)                1.372500\n",
       "1  BALTICS                                  -2.033333\n",
       "2                 C.W. OF IND. STATES       -2.033333\n",
       "3  EASTERN EUROPE                           -0.647500\n",
       "4              LATIN AMER. & CARIB          -1.494444"
      ]
     },
     "execution_count": 154,
     "metadata": {},
     "output_type": "execute_result"
    }
   ],
   "source": [
    "#Create a dataframe with just the data that you need\n",
    "migration_grouped = migration_df.groupby(['Region']).mean()\n",
    "migration_grouped_reset = migration_grouped.reset_index()\n",
    "migration_grouped_reset.head()"
   ]
  },
  {
   "cell_type": "code",
   "execution_count": 180,
   "metadata": {},
   "outputs": [
    {
     "data": {
      "image/png": "[encoded data removed]",
      "text/plain": [
       "<Figure size 432x288 with 1 Axes>"
      ]
     },
     "metadata": {
      "needs_background": "light"
     },
     "output_type": "display_data"
    }
   ],
   "source": [
    "#Create the bar graph for Net Migration and Region\n",
    "x=migration_grouped_reset[\"Region\"]\n",
    "y=migration_grouped_reset[\"Net Migration\"]\n",
    "# Shade the area between y1 and line y=0\n",
    "plt.bar(x, y,\n",
    "                 facecolor=\"red\", # The fill color\n",
    "                 color='blue',       # The outline color\n",
    "                 alpha=0.5)          # Transparency of the fill\n",
    "#Show the plot\n",
    "#plt.ylim(0,y.max)\n",
    "#plt.yticks(np.arange(0, 200))\n",
    "#plt.xticks(rotation='horizontal')\n",
    "plt.xticks(rotation='vertical')\n",
    "#plt.yticks([])\n",
    "plt.xlim(0,10)\n",
    "plt.show()\n",
    "#go through every row of the dataframe\n",
    "#for row in data.itterrows():\n",
    "#net migration / population density\n",
    "#only plot top X"
   ]
  },
  {
   "cell_type": "code",
   "execution_count": 156,
   "metadata": {},
   "outputs": [],
   "source": [
    "#Remove rows with data that does not exist\n",
    "df = df.dropna()"
   ]
  },
  {
   "cell_type": "code",
   "execution_count": 157,
   "metadata": {},
   "outputs": [
    {
     "name": "stderr",
     "output_type": "stream",
     "text": [
      "/Users/juliedundas/opt/anaconda3/lib/python3.7/site-packages/ipykernel_launcher.py:2: SettingWithCopyWarning: \n",
      "A value is trying to be set on a copy of a slice from a DataFrame.\n",
      "Try using .loc[row_indexer,col_indexer] = value instead\n",
      "\n",
      "See the caveats in the documentation: http://pandas.pydata.org/pandas-docs/stable/user_guide/indexing.html#returning-a-view-versus-a-copy\n",
      "  \n",
      "/Users/juliedundas/opt/anaconda3/lib/python3.7/site-packages/ipykernel_launcher.py:3: SettingWithCopyWarning: \n",
      "A value is trying to be set on a copy of a slice from a DataFrame.\n",
      "Try using .loc[row_indexer,col_indexer] = value instead\n",
      "\n",
      "See the caveats in the documentation: http://pandas.pydata.org/pandas-docs/stable/user_guide/indexing.html#returning-a-view-versus-a-copy\n",
      "  This is separate from the ipykernel package so we can avoid doing imports until\n"
     ]
    }
   ],
   "source": [
    "#Remove commas from the numbers\n",
    "df[\"Infant mortality (per 1000 births)\"] = df[\"Infant mortality (per 1000 births)\"].str.replace(',', \".\")\n",
    "df[\"Pop. Density (per sq. mi.)\"] = df[\"Pop. Density (per sq. mi.)\"].str.replace(',', \".\")"
   ]
  },
  {
   "cell_type": "code",
   "execution_count": 158,
   "metadata": {},
   "outputs": [],
   "source": [
    "#Set the x-values and convert the numbers to floats\n",
    "x_values = df[\"Infant mortality (per 1000 births)\"].astype(float)\n",
    "#x_values"
   ]
  },
  {
   "cell_type": "code",
   "execution_count": 159,
   "metadata": {},
   "outputs": [],
   "source": [
    "#Set the y-values and convert the numbers to floats\n",
    "y_values = df[\"Pop. Density (per sq. mi.)\"].astype(float)\n",
    "#y_values"
   ]
  },
  {
   "cell_type": "code",
   "execution_count": 160,
   "metadata": {},
   "outputs": [
    {
     "data": {
      "text/html": [
       "<div>\n",
       "<style scoped>\n",
       "    .dataframe tbody tr th:only-of-type {\n",
       "        vertical-align: middle;\n",
       "    }\n",
       "\n",
       "    .dataframe tbody tr th {\n",
       "        vertical-align: top;\n",
       "    }\n",
       "\n",
       "    .dataframe thead th {\n",
       "        text-align: right;\n",
       "    }\n",
       "</style>\n",
       "<table border=\"1\" class=\"dataframe\">\n",
       "  <thead>\n",
       "    <tr style=\"text-align: right;\">\n",
       "      <th></th>\n",
       "      <th>Country</th>\n",
       "      <th>Region</th>\n",
       "      <th>Population</th>\n",
       "      <th>Area (sq. mi.)</th>\n",
       "      <th>Pop. Density (per sq. mi.)</th>\n",
       "      <th>Coastline (coast/area ratio)</th>\n",
       "      <th>Net migration</th>\n",
       "      <th>Infant mortality (per 1000 births)</th>\n",
       "      <th>GDP ($ per capita)</th>\n",
       "      <th>Literacy (%)</th>\n",
       "      <th>Phones (per 1000)</th>\n",
       "      <th>Arable (%)</th>\n",
       "      <th>Crops (%)</th>\n",
       "      <th>Other (%)</th>\n",
       "      <th>Climate</th>\n",
       "      <th>Birthrate</th>\n",
       "      <th>Deathrate</th>\n",
       "      <th>Agriculture</th>\n",
       "      <th>Industry</th>\n",
       "      <th>Service</th>\n",
       "    </tr>\n",
       "  </thead>\n",
       "  <tbody>\n",
       "    <tr>\n",
       "      <td>77</td>\n",
       "      <td>Ghana</td>\n",
       "      <td>SUB-SAHARAN AFRICA</td>\n",
       "      <td>22409572</td>\n",
       "      <td>239460</td>\n",
       "      <td>93.6</td>\n",
       "      <td>0,23</td>\n",
       "      <td>-0,64</td>\n",
       "      <td>51.43</td>\n",
       "      <td>2200.0</td>\n",
       "      <td>74,8</td>\n",
       "      <td>14,4</td>\n",
       "      <td>16,26</td>\n",
       "      <td>9,67</td>\n",
       "      <td>74,07</td>\n",
       "      <td>2</td>\n",
       "      <td>30,52</td>\n",
       "      <td>9,72</td>\n",
       "      <td>0,366</td>\n",
       "      <td>0,246</td>\n",
       "      <td>0,387</td>\n",
       "    </tr>\n",
       "    <tr>\n",
       "      <td>168</td>\n",
       "      <td>Romania</td>\n",
       "      <td>EASTERN EUROPE</td>\n",
       "      <td>22303552</td>\n",
       "      <td>237500</td>\n",
       "      <td>93.9</td>\n",
       "      <td>0,09</td>\n",
       "      <td>-0,13</td>\n",
       "      <td>26.43</td>\n",
       "      <td>7000.0</td>\n",
       "      <td>98,4</td>\n",
       "      <td>196,9</td>\n",
       "      <td>40,82</td>\n",
       "      <td>2,25</td>\n",
       "      <td>56,93</td>\n",
       "      <td>3</td>\n",
       "      <td>10,7</td>\n",
       "      <td>11,77</td>\n",
       "      <td>0,101</td>\n",
       "      <td>0,35</td>\n",
       "      <td>0,549</td>\n",
       "    </tr>\n",
       "    <tr>\n",
       "      <td>12</td>\n",
       "      <td>Austria</td>\n",
       "      <td>WESTERN EUROPE</td>\n",
       "      <td>8192880</td>\n",
       "      <td>83870</td>\n",
       "      <td>97.7</td>\n",
       "      <td>0,00</td>\n",
       "      <td>2</td>\n",
       "      <td>4.66</td>\n",
       "      <td>30000.0</td>\n",
       "      <td>98,0</td>\n",
       "      <td>452,2</td>\n",
       "      <td>16,91</td>\n",
       "      <td>0,86</td>\n",
       "      <td>82,23</td>\n",
       "      <td>3</td>\n",
       "      <td>8,74</td>\n",
       "      <td>9,76</td>\n",
       "      <td>0,018</td>\n",
       "      <td>0,304</td>\n",
       "      <td>0,678</td>\n",
       "    </tr>\n",
       "    <tr>\n",
       "      <td>202</td>\n",
       "      <td>Togo</td>\n",
       "      <td>SUB-SAHARAN AFRICA</td>\n",
       "      <td>5548702</td>\n",
       "      <td>56785</td>\n",
       "      <td>97.7</td>\n",
       "      <td>0,10</td>\n",
       "      <td>0</td>\n",
       "      <td>66.61</td>\n",
       "      <td>1500.0</td>\n",
       "      <td>60,9</td>\n",
       "      <td>10,6</td>\n",
       "      <td>46,15</td>\n",
       "      <td>2,21</td>\n",
       "      <td>51,64</td>\n",
       "      <td>2</td>\n",
       "      <td>37,01</td>\n",
       "      <td>9,83</td>\n",
       "      <td>0,395</td>\n",
       "      <td>0,204</td>\n",
       "      <td>0,401</td>\n",
       "    </tr>\n",
       "    <tr>\n",
       "      <td>9</td>\n",
       "      <td>Armenia</td>\n",
       "      <td>C.W. OF IND. STATES</td>\n",
       "      <td>2976372</td>\n",
       "      <td>29800</td>\n",
       "      <td>99.9</td>\n",
       "      <td>0,00</td>\n",
       "      <td>-6,47</td>\n",
       "      <td>23.28</td>\n",
       "      <td>3500.0</td>\n",
       "      <td>98,6</td>\n",
       "      <td>195,7</td>\n",
       "      <td>17,55</td>\n",
       "      <td>2,3</td>\n",
       "      <td>80,15</td>\n",
       "      <td>4</td>\n",
       "      <td>12,07</td>\n",
       "      <td>8,23</td>\n",
       "      <td>0,239</td>\n",
       "      <td>0,343</td>\n",
       "      <td>0,418</td>\n",
       "    </tr>\n",
       "  </tbody>\n",
       "</table>\n",
       "</div>"
      ],
      "text/plain": [
       "      Country                               Region  Population  \\\n",
       "77     Ghana   SUB-SAHARAN AFRICA                     22409572   \n",
       "168  Romania   EASTERN EUROPE                         22303552   \n",
       "12   Austria   WESTERN EUROPE                          8192880   \n",
       "202     Togo   SUB-SAHARAN AFRICA                      5548702   \n",
       "9    Armenia                  C.W. OF IND. STATES      2976372   \n",
       "\n",
       "     Area (sq. mi.) Pop. Density (per sq. mi.) Coastline (coast/area ratio)  \\\n",
       "77           239460                       93.6                         0,23   \n",
       "168          237500                       93.9                         0,09   \n",
       "12            83870                       97.7                         0,00   \n",
       "202           56785                       97.7                         0,10   \n",
       "9             29800                       99.9                         0,00   \n",
       "\n",
       "    Net migration Infant mortality (per 1000 births)  GDP ($ per capita)  \\\n",
       "77          -0,64                              51.43              2200.0   \n",
       "168         -0,13                              26.43              7000.0   \n",
       "12              2                               4.66             30000.0   \n",
       "202             0                              66.61              1500.0   \n",
       "9           -6,47                              23.28              3500.0   \n",
       "\n",
       "    Literacy (%) Phones (per 1000) Arable (%) Crops (%) Other (%) Climate  \\\n",
       "77          74,8              14,4      16,26      9,67     74,07       2   \n",
       "168         98,4             196,9      40,82      2,25     56,93       3   \n",
       "12          98,0             452,2      16,91      0,86     82,23       3   \n",
       "202         60,9              10,6      46,15      2,21     51,64       2   \n",
       "9           98,6             195,7      17,55       2,3     80,15       4   \n",
       "\n",
       "    Birthrate Deathrate Agriculture Industry Service  \n",
       "77      30,52      9,72       0,366    0,246   0,387  \n",
       "168      10,7     11,77       0,101     0,35   0,549  \n",
       "12       8,74      9,76       0,018    0,304   0,678  \n",
       "202     37,01      9,83       0,395    0,204   0,401  \n",
       "9       12,07      8,23       0,239    0,343   0,418  "
      ]
     },
     "execution_count": 160,
     "metadata": {},
     "output_type": "execute_result"
    }
   ],
   "source": [
    "#Check for outliers\n",
    "df.sort_values(by=['Pop. Density (per sq. mi.)']).tail()"
   ]
  },
  {
   "cell_type": "code",
   "execution_count": 161,
   "metadata": {},
   "outputs": [
    {
     "name": "stdout",
     "output_type": "stream",
     "text": [
      "The linear model is: Y = 512.16 + -5.5877X\n"
     ]
    }
   ],
   "source": [
    "#Determine linear model for data\n",
    "x = df[\"Infant mortality (per 1000 births)\"].values.reshape(-1,1)\n",
    "y = df[\"Pop. Density (per sq. mi.)\"].values.reshape(-1,1)\n",
    "reg = LinearRegression()\n",
    "reg.fit(x, y)\n",
    "print(\"The linear model is: Y = {:.5} + {:.5}X\".format(reg.intercept_[0], reg.coef_[0][0]))"
   ]
  },
  {
   "cell_type": "code",
   "execution_count": 162,
   "metadata": {},
   "outputs": [
    {
     "data": {
      "image/png": "[encoded data removed]",
      "text/plain": [
       "<Figure size 432x288 with 1 Axes>"
      ]
     },
     "metadata": {
      "needs_background": "light"
     },
     "output_type": "display_data"
    }
   ],
   "source": [
    "#Graph the data with the linear model included\n",
    "(slope, intercept, rvalue, pvalue, stderr) = linregress(x_values, y_values)\n",
    "regress_values = x_values * slope + intercept\n",
    "line_eq = \"y = \" + str(round(slope,2)) + \"x + \" + str(round(intercept,2))\n",
    "plt.scatter(x_values, y_values, marker=\"o\", facecolors=\"red\", edgecolors=\"black\")\n",
    "plt.plot(x_values,regress_values,\"r-\")\n",
    "plt.plot(figsize=(100,500))\n",
    "plt.ylim(0,1500)\n",
    "plt.annotate(line_eq,(40,600),fontsize=15,color=\"black\")\n",
    "plt.xlabel(\"Infant mortality (per 1000 births)\")\n",
    "plt.ylabel(\"Pop. Density (per sq. mi.)\")\n",
    "plt.title(\"Infant Mortality vs Population Density\")\n",
    "plt.show()"
   ]
  },
  {
   "cell_type": "code",
   "execution_count": 163,
   "metadata": {},
   "outputs": [],
   "source": [
    "#Create variables for the next data frame\n",
    "infant = df[\"Infant mortality (per 1000 births)\"].astype(float)\n",
    "pop = df[\"Pop. Density (per sq. mi.)\"].astype(float)\n",
    "country = df[\"Country\"]\n",
    "region = df[\"Region\"]"
   ]
  },
  {
   "cell_type": "code",
   "execution_count": 164,
   "metadata": {},
   "outputs": [],
   "source": [
    "#Create the dataframe \n",
    "combined_df = pd.DataFrame({\"Country\": country, \"Region\": region, \"Infant mortality (per 1000 births)\": infant, \"Pop. Density (per sq. mi.)\": pop})"
   ]
  },
  {
   "cell_type": "code",
   "execution_count": 165,
   "metadata": {},
   "outputs": [
    {
     "data": {
      "text/html": [
       "<div>\n",
       "<style scoped>\n",
       "    .dataframe tbody tr th:only-of-type {\n",
       "        vertical-align: middle;\n",
       "    }\n",
       "\n",
       "    .dataframe tbody tr th {\n",
       "        vertical-align: top;\n",
       "    }\n",
       "\n",
       "    .dataframe thead th {\n",
       "        text-align: right;\n",
       "    }\n",
       "</style>\n",
       "<table border=\"1\" class=\"dataframe\">\n",
       "  <thead>\n",
       "    <tr style=\"text-align: right;\">\n",
       "      <th></th>\n",
       "      <th>Country</th>\n",
       "      <th>Region</th>\n",
       "      <th>Infant mortality (per 1000 births)</th>\n",
       "      <th>Pop. Density (per sq. mi.)</th>\n",
       "    </tr>\n",
       "  </thead>\n",
       "  <tbody>\n",
       "    <tr>\n",
       "      <td>0</td>\n",
       "      <td>Afghanistan</td>\n",
       "      <td>ASIA (EX. NEAR EAST)</td>\n",
       "      <td>163.07</td>\n",
       "      <td>48.0</td>\n",
       "    </tr>\n",
       "    <tr>\n",
       "      <td>1</td>\n",
       "      <td>Albania</td>\n",
       "      <td>EASTERN EUROPE</td>\n",
       "      <td>21.52</td>\n",
       "      <td>124.6</td>\n",
       "    </tr>\n",
       "    <tr>\n",
       "      <td>2</td>\n",
       "      <td>Algeria</td>\n",
       "      <td>NORTHERN AFRICA</td>\n",
       "      <td>31.00</td>\n",
       "      <td>13.8</td>\n",
       "    </tr>\n",
       "    <tr>\n",
       "      <td>6</td>\n",
       "      <td>Anguilla</td>\n",
       "      <td>LATIN AMER. &amp; CARIB</td>\n",
       "      <td>21.03</td>\n",
       "      <td>132.1</td>\n",
       "    </tr>\n",
       "    <tr>\n",
       "      <td>7</td>\n",
       "      <td>Antigua &amp; Barbuda</td>\n",
       "      <td>LATIN AMER. &amp; CARIB</td>\n",
       "      <td>19.46</td>\n",
       "      <td>156.0</td>\n",
       "    </tr>\n",
       "    <tr>\n",
       "      <td>...</td>\n",
       "      <td>...</td>\n",
       "      <td>...</td>\n",
       "      <td>...</td>\n",
       "      <td>...</td>\n",
       "    </tr>\n",
       "    <tr>\n",
       "      <td>218</td>\n",
       "      <td>Venezuela</td>\n",
       "      <td>LATIN AMER. &amp; CARIB</td>\n",
       "      <td>22.20</td>\n",
       "      <td>28.2</td>\n",
       "    </tr>\n",
       "    <tr>\n",
       "      <td>219</td>\n",
       "      <td>Vietnam</td>\n",
       "      <td>ASIA (EX. NEAR EAST)</td>\n",
       "      <td>25.95</td>\n",
       "      <td>256.1</td>\n",
       "    </tr>\n",
       "    <tr>\n",
       "      <td>224</td>\n",
       "      <td>Yemen</td>\n",
       "      <td>NEAR EAST</td>\n",
       "      <td>61.50</td>\n",
       "      <td>40.6</td>\n",
       "    </tr>\n",
       "    <tr>\n",
       "      <td>225</td>\n",
       "      <td>Zambia</td>\n",
       "      <td>SUB-SAHARAN AFRICA</td>\n",
       "      <td>88.29</td>\n",
       "      <td>15.3</td>\n",
       "    </tr>\n",
       "    <tr>\n",
       "      <td>226</td>\n",
       "      <td>Zimbabwe</td>\n",
       "      <td>SUB-SAHARAN AFRICA</td>\n",
       "      <td>67.69</td>\n",
       "      <td>31.3</td>\n",
       "    </tr>\n",
       "  </tbody>\n",
       "</table>\n",
       "<p>179 rows × 4 columns</p>\n",
       "</div>"
      ],
      "text/plain": [
       "                Country                               Region  \\\n",
       "0          Afghanistan         ASIA (EX. NEAR EAST)            \n",
       "1              Albania   EASTERN EUROPE                        \n",
       "2              Algeria   NORTHERN AFRICA                       \n",
       "6             Anguilla               LATIN AMER. & CARIB       \n",
       "7    Antigua & Barbuda               LATIN AMER. & CARIB       \n",
       "..                  ...                                  ...   \n",
       "218          Venezuela               LATIN AMER. & CARIB       \n",
       "219            Vietnam         ASIA (EX. NEAR EAST)            \n",
       "224              Yemen   NEAR EAST                             \n",
       "225             Zambia   SUB-SAHARAN AFRICA                    \n",
       "226           Zimbabwe   SUB-SAHARAN AFRICA                    \n",
       "\n",
       "     Infant mortality (per 1000 births)  Pop. Density (per sq. mi.)  \n",
       "0                                163.07                        48.0  \n",
       "1                                 21.52                       124.6  \n",
       "2                                 31.00                        13.8  \n",
       "6                                 21.03                       132.1  \n",
       "7                                 19.46                       156.0  \n",
       "..                                  ...                         ...  \n",
       "218                               22.20                        28.2  \n",
       "219                               25.95                       256.1  \n",
       "224                               61.50                        40.6  \n",
       "225                               88.29                        15.3  \n",
       "226                               67.69                        31.3  \n",
       "\n",
       "[179 rows x 4 columns]"
      ]
     },
     "execution_count": 165,
     "metadata": {},
     "output_type": "execute_result"
    }
   ],
   "source": [
    "#Show the new data frame\n",
    "combined_df"
   ]
  },
  {
   "cell_type": "code",
   "execution_count": 166,
   "metadata": {},
   "outputs": [
    {
     "data": {
      "text/html": [
       "<div>\n",
       "<style scoped>\n",
       "    .dataframe tbody tr th:only-of-type {\n",
       "        vertical-align: middle;\n",
       "    }\n",
       "\n",
       "    .dataframe tbody tr th {\n",
       "        vertical-align: top;\n",
       "    }\n",
       "\n",
       "    .dataframe thead th {\n",
       "        text-align: right;\n",
       "    }\n",
       "</style>\n",
       "<table border=\"1\" class=\"dataframe\">\n",
       "  <thead>\n",
       "    <tr style=\"text-align: right;\">\n",
       "      <th></th>\n",
       "      <th>Infant mortality (per 1000 births)</th>\n",
       "      <th>Pop. Density (per sq. mi.)</th>\n",
       "    </tr>\n",
       "    <tr>\n",
       "      <th>Region</th>\n",
       "      <th></th>\n",
       "      <th></th>\n",
       "    </tr>\n",
       "  </thead>\n",
       "  <tbody>\n",
       "    <tr>\n",
       "      <td>ASIA (EX. NEAR EAST)</td>\n",
       "      <td>1055.45</td>\n",
       "      <td>35152.1</td>\n",
       "    </tr>\n",
       "    <tr>\n",
       "      <td>BALTICS</td>\n",
       "      <td>17.42</td>\n",
       "      <td>64.5</td>\n",
       "    </tr>\n",
       "    <tr>\n",
       "      <td>C.W. OF IND. STATES</td>\n",
       "      <td>477.11</td>\n",
       "      <td>540.1</td>\n",
       "    </tr>\n",
       "    <tr>\n",
       "      <td>EASTERN EUROPE</td>\n",
       "      <td>89.51</td>\n",
       "      <td>645.5</td>\n",
       "    </tr>\n",
       "    <tr>\n",
       "      <td>LATIN AMER. &amp; CARIB</td>\n",
       "      <td>873.12</td>\n",
       "      <td>5930.5</td>\n",
       "    </tr>\n",
       "  </tbody>\n",
       "</table>\n",
       "</div>"
      ],
      "text/plain": [
       "                                     Infant mortality (per 1000 births)  \\\n",
       "Region                                                                    \n",
       "ASIA (EX. NEAR EAST)                                            1055.45   \n",
       "BALTICS                                                           17.42   \n",
       "C.W. OF IND. STATES                                              477.11   \n",
       "EASTERN EUROPE                                                    89.51   \n",
       "LATIN AMER. & CARIB                                              873.12   \n",
       "\n",
       "                                     Pop. Density (per sq. mi.)  \n",
       "Region                                                           \n",
       "ASIA (EX. NEAR EAST)                                    35152.1  \n",
       "BALTICS                                                    64.5  \n",
       "C.W. OF IND. STATES                                       540.1  \n",
       "EASTERN EUROPE                                            645.5  \n",
       "LATIN AMER. & CARIB                                      5930.5  "
      ]
     },
     "execution_count": 166,
     "metadata": {},
     "output_type": "execute_result"
    }
   ],
   "source": [
    "#Use groupby to group the data frame by region\n",
    "new_df_grouped = combined_df.groupby([\"Region\"]).sum()\n",
    "new_df_grouped.head()"
   ]
  },
  {
   "cell_type": "code",
   "execution_count": 167,
   "metadata": {},
   "outputs": [
    {
     "data": {
      "image/png": "[encoded data removed]",
      "text/plain": [
       "<Figure size 432x288 with 1 Axes>"
      ]
     },
     "metadata": {
      "needs_background": "light"
     },
     "output_type": "display_data"
    }
   ],
   "source": [
    "#Plot the dataframe in a scatter plot\n",
    "plt.scatter(new_df_grouped[\"Infant mortality (per 1000 births)\"], new_df_grouped[\"Pop. Density (per sq. mi.)\"], marker=\"o\", facecolors=\"red\", edgecolors=\"black\")\n",
    "plt.show()"
   ]
  },
  {
   "cell_type": "code",
   "execution_count": 168,
   "metadata": {},
   "outputs": [
    {
     "data": {
      "image/png": "[encoded data removed]",
      "text/plain": [
       "<Figure size 432x288 with 1 Axes>"
      ]
     },
     "metadata": {
      "needs_background": "light"
     },
     "output_type": "display_data"
    }
   ],
   "source": [
    "#Plot the dataframe with the regression line\n",
    "(slope, intercept, rvalue, pvalue, stderr) = linregress(new_df_grouped[\"Infant mortality (per 1000 births)\"], new_df_grouped[\"Pop. Density (per sq. mi.)\"])\n",
    "regress_values = new_df_grouped[\"Infant mortality (per 1000 births)\"] * slope + intercept\n",
    "line_eq = \"y = \" + str(round(slope,2)) + \"x + \" + str(round(intercept,2))\n",
    "plt.scatter(new_df_grouped[\"Infant mortality (per 1000 births)\"], new_df_grouped[\"Pop. Density (per sq. mi.)\"], marker=\"o\", facecolors=\"red\", edgecolors=\"black\")\n",
    "plt.plot(new_df_grouped[\"Infant mortality (per 1000 births)\"],regress_values,\"r-\")\n",
    "plt.annotate(line_eq,(30,20000),fontsize=15,color=\"black\")\n",
    "plt.xlabel(\"Infant mortality (per 1000 births)\")\n",
    "plt.ylabel(\"Pop. Density (per sq. mi.)\")\n",
    "plt.title(\"Infant Mortality vs Population Density\")\n",
    "plt.show()"
   ]
  },
  {
   "cell_type": "code",
   "execution_count": null,
   "metadata": {},
   "outputs": [],
   "source": []
  }
 ],
 "metadata": {
  "file_extension": ".py",
  "kernelspec": {
   "display_name": "Python 3",
   "language": "python",
   "name": "python3"
  },
  "language_info": {
   "codemirror_mode": {
    "name": "ipython",
    "version": 3
   },
   "file_extension": ".py",
   "mimetype": "text/x-python",
   "name": "python",
   "nbconvert_exporter": "python",
   "pygments_lexer": "ipython3",
   "version": "3.7.4"
  },
  "mimetype": "text/x-python",
  "name": "python",
  "npconvert_exporter": "python",
  "pygments_lexer": "ipython3",
  "version": 3
 },
 "nbformat": 4,
 "nbformat_minor": 2
}
