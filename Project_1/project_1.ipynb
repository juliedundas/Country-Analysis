{
 "cells": [
  {
   "cell_type": "code",
   "execution_count": 1,
   "metadata": {},
   "outputs": [],
   "source": [
    "#Import dependicies\n",
    "import pandas as pd\n",
    "import matplotlib.pyplot as plt\n",
    "import numpy as np\n",
    "import config as cfg\n",
    "import scipy.stats as st\n",
    "import json\n",
    "import requests\n",
    "import gmaps\n",
    "from scipy.stats import linregress"
   ]
  },
  {
   "cell_type": "code",
   "execution_count": 4,
   "metadata": {},
   "outputs": [
    {
     "name": "stdout",
     "output_type": "stream",
     "text": [
      "Please select a Country or Region to search:Yemen\n"
     ]
    }
   ],
   "source": [
    "#build file location string to read data\n",
    "file = \"Resources/countries_of_the_world.csv\"\n",
    "\n",
    "#load file ensuring latin alpha numeric text.\n",
    "rawCountriesDF = pd.read_csv(file, encoding=\"ISO-8859-1\")\n",
    "\n",
    "#Extract region/country for input validation|\n",
    "countryValidationRaw = rawCountriesDF[['Country','Region']]\n",
    "countryValidationRaw.dropna()\n",
    "\n",
    "#force case to upper due to case sensitivity\n",
    "countryValidationUpper = countryValidationRaw['Country'].str.upper()\n",
    "regionValidationUpper = countryValidationRaw['Region'].str.upper()\n",
    "countryValidation = pd.DataFrame({'Country': countryValidationUpper,\n",
    "                                 'Region': regionValidationUpper})\n",
    "\n",
    "#get input from user testing if it is a country or region\n",
    "isValid = False\n",
    "while isValid == False:\n",
    "    targetLocation = input(\"Please select a Country or Region to search:\").upper()\n",
    "    if countryValidation['Country'].str.contains(targetLocation).any() or countryValidation['Region'].str.contains(targetLocation).any() :\n",
    "        isValid = True\n",
    "    else:\n",
    "        isValid = False\n",
    "        print('Please enter a valid Country or Region')\n",
    "        \n",
    "#to set zoom level of figure, will need to find out if it is a country or region.\n",
    "isCountry = False\n",
    "if countryValidation['Country'].str.contains(targetLocation).any():\n",
    "    isCountry = True"
   ]
  },
  {
   "cell_type": "code",
   "execution_count": 5,
   "metadata": {},
   "outputs": [
    {
     "ename": "IndexError",
     "evalue": "list index out of range",
     "output_type": "error",
     "traceback": [
      "\u001b[0;31m---------------------------------------------------------------------------\u001b[0m",
      "\u001b[0;31mIndexError\u001b[0m                                Traceback (most recent call last)",
      "\u001b[0;32m<ipython-input-5-f541d6e13e21>\u001b[0m in \u001b[0;36m<module>\u001b[0;34m\u001b[0m\n\u001b[1;32m     12\u001b[0m \u001b[0;34m\u001b[0m\u001b[0m\n\u001b[1;32m     13\u001b[0m \u001b[0;31m#load coordinates dataframe for mapping\u001b[0m\u001b[0;34m\u001b[0m\u001b[0;34m\u001b[0m\u001b[0;34m\u001b[0m\u001b[0m\n\u001b[0;32m---> 14\u001b[0;31m coordinates = pd.DataFrame({'lat': response[\"results\"][0][\"geometry\"][\"location\"][\"lat\"],\n\u001b[0m\u001b[1;32m     15\u001b[0m                             'lng': response[\"results\"][0][\"geometry\"][\"location\"][\"lng\"]}, index=[0])\n",
      "\u001b[0;31mIndexError\u001b[0m: list index out of range"
     ]
    }
   ],
   "source": [
    "#get the coordinates for google maps API\n",
    "gmaps.configure(api_key=cfg.key)\n",
    "\n",
    "#build request\n",
    "params = {'key': cfg.key}\n",
    "params['address'] = f\"{targetLocation}\"\n",
    "\n",
    "response = requests.get(cfg.baseApiUrl, params=params)\n",
    "\n",
    "#convert response to json\n",
    "response = response.json()\n",
    "\n",
    "#load coordinates dataframe for mapping\n",
    "coordinates = pd.DataFrame({'lat': response[\"results\"][0][\"geometry\"][\"location\"][\"lat\"],\n",
    "                            'lng': response[\"results\"][0][\"geometry\"][\"location\"][\"lng\"]}, index=[0])"
   ]
  },
  {
   "cell_type": "code",
   "execution_count": 6,
   "metadata": {},
   "outputs": [
    {
     "ename": "NameError",
     "evalue": "name 'coordinates' is not defined",
     "output_type": "error",
     "traceback": [
      "\u001b[0;31m---------------------------------------------------------------------------\u001b[0m",
      "\u001b[0;31mNameError\u001b[0m                                 Traceback (most recent call last)",
      "\u001b[0;32m<ipython-input-6-9bd9a3a9632a>\u001b[0m in \u001b[0;36m<module>\u001b[0;34m\u001b[0m\n\u001b[1;32m      1\u001b[0m \u001b[0;31m#get map of requested country or region\u001b[0m\u001b[0;34m\u001b[0m\u001b[0;34m\u001b[0m\u001b[0;34m\u001b[0m\u001b[0m\n\u001b[0;32m----> 2\u001b[0;31m \u001b[0mcoordinate\u001b[0m \u001b[0;34m=\u001b[0m \u001b[0;34m[\u001b[0m\u001b[0mcoordinates\u001b[0m\u001b[0;34m.\u001b[0m\u001b[0mloc\u001b[0m\u001b[0;34m[\u001b[0m\u001b[0;36m0\u001b[0m\u001b[0;34m,\u001b[0m\u001b[0;34m'lat'\u001b[0m\u001b[0;34m]\u001b[0m\u001b[0;34m,\u001b[0m \u001b[0mcoordinates\u001b[0m\u001b[0;34m.\u001b[0m\u001b[0mloc\u001b[0m\u001b[0;34m[\u001b[0m\u001b[0;36m0\u001b[0m\u001b[0;34m,\u001b[0m\u001b[0;34m'lng'\u001b[0m\u001b[0;34m]\u001b[0m\u001b[0;34m]\u001b[0m\u001b[0;34m\u001b[0m\u001b[0;34m\u001b[0m\u001b[0m\n\u001b[0m\u001b[1;32m      3\u001b[0m \u001b[0mcoordinate\u001b[0m\u001b[0;34m\u001b[0m\u001b[0;34m\u001b[0m\u001b[0m\n\u001b[1;32m      4\u001b[0m \u001b[0;34m\u001b[0m\u001b[0m\n\u001b[1;32m      5\u001b[0m \u001b[0;31m#set zoom level based on request\u001b[0m\u001b[0;34m\u001b[0m\u001b[0;34m\u001b[0m\u001b[0;34m\u001b[0m\u001b[0m\n",
      "\u001b[0;31mNameError\u001b[0m: name 'coordinates' is not defined"
     ]
    }
   ],
   "source": [
    "#get map of requested country or region\n",
    "coordinate = [coordinates.loc[0,'lat'], coordinates.loc[0,'lng']]\n",
    "coordinate\n",
    "\n",
    "#set zoom level based on request\n",
    "zoomLevel = 0\n",
    "if isCountry:\n",
    "    zoomLevel = 5\n",
    "else:\n",
    "    zoomLevel = 2\n",
    "    \n",
    "#create figure for map\n",
    "figureLayout = {\n",
    "    'width': '400px',\n",
    "    'height': '300px',\n",
    "    'border': '1px solid black',\n",
    "    'padding': '1px',\n",
    "    'margin': '0 auto 0 auto'}\n",
    "\n",
    "fig = gmaps.figure(layout=figureLayout, center=coordinate, zoom_level=zoomLevel)\n",
    "fig"
   ]
  },
  {
   "cell_type": "code",
   "execution_count": 7,
   "metadata": {},
   "outputs": [
    {
     "name": "stderr",
     "output_type": "stream",
     "text": [
      "/Users/juliedundas/opt/anaconda3/lib/python3.7/site-packages/pandas/core/indexing.py:576: SettingWithCopyWarning: \n",
      "A value is trying to be set on a copy of a slice from a DataFrame.\n",
      "Try using .loc[row_indexer,col_indexer] = value instead\n",
      "\n",
      "See the caveats in the documentation: http://pandas.pydata.org/pandas-docs/stable/user_guide/indexing.html#returning-a-view-versus-a-copy\n",
      "  self.obj[item_labels[indexer[info_axis]]] = value\n",
      "/Users/juliedundas/opt/anaconda3/lib/python3.7/site-packages/pandas/core/indexing.py:494: SettingWithCopyWarning: \n",
      "A value is trying to be set on a copy of a slice from a DataFrame.\n",
      "Try using .loc[row_indexer,col_indexer] = value instead\n",
      "\n",
      "See the caveats in the documentation: http://pandas.pydata.org/pandas-docs/stable/user_guide/indexing.html#returning-a-view-versus-a-copy\n",
      "  self.obj[item] = s\n",
      "/Users/juliedundas/opt/anaconda3/lib/python3.7/site-packages/ipykernel_launcher.py:20: SettingWithCopyWarning: \n",
      "A value is trying to be set on a copy of a slice from a DataFrame\n",
      "\n",
      "See the caveats in the documentation: http://pandas.pydata.org/pandas-docs/stable/user_guide/indexing.html#returning-a-view-versus-a-copy\n"
     ]
    },
    {
     "data": {
      "text/html": [
       "<div>\n",
       "<style scoped>\n",
       "    .dataframe tbody tr th:only-of-type {\n",
       "        vertical-align: middle;\n",
       "    }\n",
       "\n",
       "    .dataframe tbody tr th {\n",
       "        vertical-align: top;\n",
       "    }\n",
       "\n",
       "    .dataframe thead th {\n",
       "        text-align: right;\n",
       "    }\n",
       "</style>\n",
       "<table border=\"1\" class=\"dataframe\">\n",
       "  <thead>\n",
       "    <tr style=\"text-align: right;\">\n",
       "      <th></th>\n",
       "      <th>Country</th>\n",
       "      <th>Region</th>\n",
       "      <th>Birthrate</th>\n",
       "      <th>Deathrate</th>\n",
       "      <th>Climate</th>\n",
       "    </tr>\n",
       "  </thead>\n",
       "  <tbody>\n",
       "    <tr>\n",
       "      <td>0</td>\n",
       "      <td>Afghanistan</td>\n",
       "      <td>ASIA (EX. NEAR EAST)</td>\n",
       "      <td>46.60</td>\n",
       "      <td>20.34</td>\n",
       "      <td>1.0</td>\n",
       "    </tr>\n",
       "    <tr>\n",
       "      <td>1</td>\n",
       "      <td>Albania</td>\n",
       "      <td>EASTERN EUROPE</td>\n",
       "      <td>15.11</td>\n",
       "      <td>5.22</td>\n",
       "      <td>3.0</td>\n",
       "    </tr>\n",
       "    <tr>\n",
       "      <td>2</td>\n",
       "      <td>Algeria</td>\n",
       "      <td>NORTHERN AFRICA</td>\n",
       "      <td>17.14</td>\n",
       "      <td>4.61</td>\n",
       "      <td>1.0</td>\n",
       "    </tr>\n",
       "    <tr>\n",
       "      <td>3</td>\n",
       "      <td>American Samoa</td>\n",
       "      <td>OCEANIA</td>\n",
       "      <td>22.46</td>\n",
       "      <td>3.27</td>\n",
       "      <td>2.0</td>\n",
       "    </tr>\n",
       "    <tr>\n",
       "      <td>4</td>\n",
       "      <td>Andorra</td>\n",
       "      <td>WESTERN EUROPE</td>\n",
       "      <td>8.71</td>\n",
       "      <td>6.25</td>\n",
       "      <td>3.0</td>\n",
       "    </tr>\n",
       "    <tr>\n",
       "      <td>...</td>\n",
       "      <td>...</td>\n",
       "      <td>...</td>\n",
       "      <td>...</td>\n",
       "      <td>...</td>\n",
       "      <td>...</td>\n",
       "    </tr>\n",
       "    <tr>\n",
       "      <td>220</td>\n",
       "      <td>Virgin Islands</td>\n",
       "      <td>LATIN AMER. &amp; CARIB</td>\n",
       "      <td>13.96</td>\n",
       "      <td>6.43</td>\n",
       "      <td>2.0</td>\n",
       "    </tr>\n",
       "    <tr>\n",
       "      <td>222</td>\n",
       "      <td>West Bank</td>\n",
       "      <td>NEAR EAST</td>\n",
       "      <td>31.67</td>\n",
       "      <td>3.92</td>\n",
       "      <td>3.0</td>\n",
       "    </tr>\n",
       "    <tr>\n",
       "      <td>224</td>\n",
       "      <td>Yemen</td>\n",
       "      <td>NEAR EAST</td>\n",
       "      <td>42.89</td>\n",
       "      <td>8.30</td>\n",
       "      <td>1.0</td>\n",
       "    </tr>\n",
       "    <tr>\n",
       "      <td>225</td>\n",
       "      <td>Zambia</td>\n",
       "      <td>SUB-SAHARAN AFRICA</td>\n",
       "      <td>41.00</td>\n",
       "      <td>19.93</td>\n",
       "      <td>2.0</td>\n",
       "    </tr>\n",
       "    <tr>\n",
       "      <td>226</td>\n",
       "      <td>Zimbabwe</td>\n",
       "      <td>SUB-SAHARAN AFRICA</td>\n",
       "      <td>28.01</td>\n",
       "      <td>21.84</td>\n",
       "      <td>2.0</td>\n",
       "    </tr>\n",
       "  </tbody>\n",
       "</table>\n",
       "<p>202 rows × 5 columns</p>\n",
       "</div>"
      ],
      "text/plain": [
       "             Country                               Region  Birthrate  \\\n",
       "0       Afghanistan         ASIA (EX. NEAR EAST)               46.60   \n",
       "1           Albania   EASTERN EUROPE                           15.11   \n",
       "2           Algeria   NORTHERN AFRICA                          17.14   \n",
       "3    American Samoa   OCEANIA                                  22.46   \n",
       "4           Andorra   WESTERN EUROPE                            8.71   \n",
       "..               ...                                  ...        ...   \n",
       "220  Virgin Islands               LATIN AMER. & CARIB          13.96   \n",
       "222       West Bank   NEAR EAST                                31.67   \n",
       "224           Yemen   NEAR EAST                                42.89   \n",
       "225          Zambia   SUB-SAHARAN AFRICA                       41.00   \n",
       "226        Zimbabwe   SUB-SAHARAN AFRICA                       28.01   \n",
       "\n",
       "     Deathrate  Climate  \n",
       "0        20.34      1.0  \n",
       "1         5.22      3.0  \n",
       "2         4.61      1.0  \n",
       "3         3.27      2.0  \n",
       "4         6.25      3.0  \n",
       "..         ...      ...  \n",
       "220       6.43      2.0  \n",
       "222       3.92      3.0  \n",
       "224       8.30      1.0  \n",
       "225      19.93      2.0  \n",
       "226      21.84      2.0  \n",
       "\n",
       "[202 rows x 5 columns]"
      ]
     },
     "execution_count": 7,
     "metadata": {},
     "output_type": "execute_result"
    }
   ],
   "source": [
    "#Find relation between birthrate, deathrate, and climates. Start with extracting needed data to it's own dataframe.\n",
    "birthMortalityDF = rawCountriesDF[['Country', 'Region', 'Birthrate', 'Deathrate', 'Climate']]\n",
    "\n",
    "#convert numbers to US standards replacing , with .\n",
    "climateConversion = birthMortalityDF['Climate'].str.replace(',','.')\n",
    "climate = climateConversion.astype(float)\n",
    "climate = climate.round(0)\n",
    "\n",
    "birthRateConversion = birthMortalityDF['Birthrate'].str.replace(',','.')\n",
    "birthRate = birthRateConversion.astype(float)\n",
    "\n",
    "deathRateConversion = birthMortalityDF['Deathrate'].str.replace(',','.')\n",
    "deathRate = deathRateConversion.astype(float)\n",
    "\n",
    "#add data back to DF and drop bad rows\n",
    "birthMortalityDF.loc[:,'Climate'] = climate\n",
    "birthMortalityDF.loc[:,'Birthrate'] = birthRate\n",
    "birthMortalityDF.loc[:,'Deathrate'] = deathRate\n",
    "\n",
    "birthMortalityDF.dropna(how='any', inplace=True)\n",
    "birthMortalityDF"
   ]
  },
  {
   "cell_type": "code",
   "execution_count": 8,
   "metadata": {},
   "outputs": [
    {
     "name": "stdout",
     "output_type": "stream",
     "text": [
      "The lower quartile of Dry-Tropical Birthrates is: 18.77\n",
      "The upper quartile of Dry-Tropical Birthrates is: 33.04\n",
      "The interquartile range of Dry-Tropical Birthrates is: 14.28\n",
      "\n",
      "The lower quartile of Dry-Tropical Deathrates is: 4.69\n",
      "The upper quartile of Dry-Tropical Deathrates is: 13.28\n",
      "The interquartile range of Dry-Tropical Deathrates is: 8.59\n",
      "\n",
      "Values below -2.64 could be outliers for births.\n",
      "Values above 54.46 could be outliers for births.\n",
      "Values below -8.19 could be outliers for deaths.\n",
      "Values above 26.16 could be outliers for deaths.\n",
      "\n",
      "there are 0 birth outliers.\n",
      "there are 1 death outliers.\n",
      "\n",
      "The lower quartile of Wet-Tropical Birthrates is: 17.58\n",
      "The upper quartile of Wet-Tropical Birthrates is: 34.6\n",
      "The interquartile range of Wet-Tropical Birthrates is: 17.02\n",
      "\n",
      "The lower quartile of Wet-Tropical Deathrates is: 5.56\n",
      "The upper quartile of Wet-Tropical Deathrates is: 10.7\n",
      "The interquartile range of Wet-Tropical Deathrates is: 5.15\n",
      "\n",
      "Values below -7.94 could be outliers for births.\n",
      "Values above 60.12 could be outliers for births.\n",
      "Values below -2.16 could be outliers for deaths.\n",
      "Values above 18.43 could be outliers for deaths.\n",
      "\n",
      "there are 0 birth outliers.\n",
      "there are 8 death outliers.\n",
      "\n",
      "The lower quartile of Temperate Birthrates is: 9.72\n",
      "The upper quartile of Temperate Birthrates is: 14.61\n",
      "The interquartile range of Temperate Birthrates is: 4.9\n",
      "\n",
      "The lower quartile of Temperate Deathrates is: 7.43\n",
      "The upper quartile of Temperate Deathrates is: 10.4\n",
      "The interquartile range of Temperate Deathrates is: 2.96\n",
      "\n",
      "Values below 2.37 could be outliers for births.\n",
      "Values above 21.96 could be outliers for births.\n",
      "Values below 2.98 could be outliers for deaths.\n",
      "Values above 14.84 could be outliers for deaths.\n",
      "\n",
      "there are 5 birth outliers.\n",
      "there are 2 death outliers.\n",
      "\n",
      "The lower quartile of Mediterranean Birthrates is: 10.45\n",
      "The upper quartile of Mediterranean Birthrates is: 12.05\n",
      "The interquartile range of Mediterranean Birthrates is: 1.6\n",
      "\n",
      "The lower quartile of Mediterranean Deathrates is: 8.24\n",
      "The upper quartile of Mediterranean Deathrates is: 9.35\n",
      "The interquartile range of Mediterranean Deathrates is: 1.11\n",
      "\n",
      "Values below 8.04 could be outliers for births.\n",
      "Values above 14.45 could be outliers for births.\n",
      "Values below 6.58 could be outliers for deaths.\n",
      "Values above 11.01 could be outliers for deaths.\n",
      "\n",
      "there are 1 birth outliers.\n",
      "there are 1 death outliers.\n",
      "\n"
     ]
    }
   ],
   "source": [
    "#calculate the IQR for each climate and identify how many outliers there are\n",
    "dryTropicalBirth = pd.DataFrame({'Birthrate': birthMortalityDF.loc[(birthMortalityDF[\"Climate\"] == 1)]['Birthrate']})\n",
    "wetTropicalBirth = pd.DataFrame({'Birthrate': birthMortalityDF.loc[(birthMortalityDF[\"Climate\"] == 2)]['Birthrate']})\n",
    "temperateBirth = pd.DataFrame({'Birthrate': birthMortalityDF.loc[(birthMortalityDF[\"Climate\"] == 3)]['Birthrate']})\n",
    "mediterraneanBirth = pd.DataFrame({'Birthrate': birthMortalityDF.loc[(birthMortalityDF[\"Climate\"] == 4)]['Birthrate']})\n",
    "\n",
    "dryTropicalDeath = pd.DataFrame({'Deathrate': birthMortalityDF.loc[(birthMortalityDF[\"Climate\"] == 1)]['Deathrate']})\n",
    "wetTropicalDeath = pd.DataFrame({'Deathrate': birthMortalityDF.loc[(birthMortalityDF[\"Climate\"] == 2)]['Deathrate']})\n",
    "temperateDeath = pd.DataFrame({'Deathrate': birthMortalityDF.loc[(birthMortalityDF[\"Climate\"] == 3)]['Deathrate']})\n",
    "mediterraneanDeath = pd.DataFrame({'Deathrate': birthMortalityDF.loc[(birthMortalityDF[\"Climate\"] == 4)]['Deathrate']})\n",
    "\n",
    "quartilesB = dryTropicalBirth['Birthrate'].quantile([.25,.5,.75])\n",
    "lowerQB = quartilesB[0.25]\n",
    "upperQB = quartilesB[0.75]\n",
    "iqrB = upperQB-lowerQB\n",
    "\n",
    "quartilesD = dryTropicalDeath['Deathrate'].quantile([.25,.5,.75])\n",
    "lowerQD = quartilesD[0.25]\n",
    "upperQD = quartilesD[0.75]\n",
    "iqrD = upperQD-lowerQD\n",
    "\n",
    "print(f\"The lower quartile of Dry-Tropical Birthrates is: {round(lowerQB,2)}\")\n",
    "print(f\"The upper quartile of Dry-Tropical Birthrates is: {round(upperQB,2)}\")\n",
    "print(f\"The interquartile range of Dry-Tropical Birthrates is: {round(iqrB,2)}\")\n",
    "print('')\n",
    "print(f\"The lower quartile of Dry-Tropical Deathrates is: {round(lowerQD,2)}\")\n",
    "print(f\"The upper quartile of Dry-Tropical Deathrates is: {round(upperQD,2)}\")\n",
    "print(f\"The interquartile range of Dry-Tropical Deathrates is: {round(iqrD,2)}\")\n",
    "\n",
    "lowerBoundBDT = lowerQB - (1.5*iqrB)\n",
    "upperBoundBDT = upperQB + (1.5*iqrB)\n",
    "\n",
    "lowerBoundDDT = lowerQD - (1.5*iqrD)\n",
    "upperBoundDDT = upperQD + (1.5*iqrD)\n",
    "print('')\n",
    "print(f\"Values below {round(lowerBoundBDT,2)} could be outliers for births.\")\n",
    "print(f\"Values above {round(upperBoundBDT,2)} could be outliers for births.\")\n",
    "print(f\"Values below {round(lowerBoundDDT,2)} could be outliers for deaths.\")\n",
    "print(f\"Values above {round(upperBoundDDT,2)} could be outliers for deaths.\")\n",
    "print('')\n",
    "dryTropicalBirthOutliers = dryTropicalBirth.loc[(dryTropicalBirth['Birthrate'] < lowerBoundBDT) | (dryTropicalBirth['Birthrate'] > upperBoundBDT)]\n",
    "dryTropicalBirthOutCount = dryTropicalBirthOutliers['Birthrate'].count()\n",
    "print(('there are {0} birth outliers.').format(dryTropicalBirthOutCount))\n",
    "\n",
    "dryTropicalDeathOutliers = dryTropicalDeath.loc[(dryTropicalDeath['Deathrate'] < lowerBoundDDT) | (dryTropicalDeath['Deathrate'] > upperBoundDDT)]\n",
    "dryTropicalDeathOutCount = dryTropicalDeathOutliers['Deathrate'].count()\n",
    "print(('there are {0} death outliers.').format(dryTropicalDeathOutCount))\n",
    "\n",
    "print('')\n",
    "quartilesB = wetTropicalBirth['Birthrate'].quantile([.25,.5,.75])\n",
    "lowerQB = quartilesB[0.25]\n",
    "upperQB = quartilesB[0.75]\n",
    "iqrB = upperQB-lowerQB\n",
    "\n",
    "quartilesD = wetTropicalDeath['Deathrate'].quantile([.25,.5,.75])\n",
    "lowerQD = quartilesD[0.25]\n",
    "upperQD = quartilesD[0.75]\n",
    "iqrD = upperQD-lowerQD\n",
    "\n",
    "print(f\"The lower quartile of Wet-Tropical Birthrates is: {round(lowerQB,2)}\")\n",
    "print(f\"The upper quartile of Wet-Tropical Birthrates is: {round(upperQB,2)}\")\n",
    "print(f\"The interquartile range of Wet-Tropical Birthrates is: {round(iqrB,2)}\")\n",
    "print('')\n",
    "print(f\"The lower quartile of Wet-Tropical Deathrates is: {round(lowerQD,2)}\")\n",
    "print(f\"The upper quartile of Wet-Tropical Deathrates is: {round(upperQD,2)}\")\n",
    "print(f\"The interquartile range of Wet-Tropical Deathrates is: {round(iqrD,2)}\")\n",
    "\n",
    "lowerBoundBWT = lowerQB - (1.5*iqrB)\n",
    "upperBoundBWT = upperQB + (1.5*iqrB)\n",
    "\n",
    "lowerBoundDWT = lowerQD - (1.5*iqrD)\n",
    "upperBoundDWT = upperQD + (1.5*iqrD)\n",
    "print('')\n",
    "print(f\"Values below {round(lowerBoundBWT,2)} could be outliers for births.\")\n",
    "print(f\"Values above {round(upperBoundBWT,2)} could be outliers for births.\")\n",
    "print(f\"Values below {round(lowerBoundDWT,2)} could be outliers for deaths.\")\n",
    "print(f\"Values above {round(upperBoundDWT,2)} could be outliers for deaths.\")\n",
    "print('')\n",
    "wetTropicalBirthOutliers = wetTropicalBirth.loc[(wetTropicalBirth['Birthrate'] < lowerBoundBWT) | (wetTropicalBirth['Birthrate'] > upperBoundBWT)]\n",
    "wetTropicalBirthOutCount = wetTropicalBirthOutliers['Birthrate'].count()\n",
    "print(('there are {0} birth outliers.').format(wetTropicalBirthOutCount))\n",
    "\n",
    "wetTropicalDeathOutliers = wetTropicalDeath.loc[(wetTropicalDeath['Deathrate'] < lowerBoundDWT) | (wetTropicalDeath['Deathrate'] > upperBoundDWT)]\n",
    "wetTropicalDeathOutCount = wetTropicalDeathOutliers['Deathrate'].count()\n",
    "print(('there are {0} death outliers.').format(wetTropicalDeathOutCount))\n",
    "\n",
    "print('')\n",
    "quartilesB = temperateBirth['Birthrate'].quantile([.25,.5,.75])\n",
    "lowerQB = quartilesB[0.25]\n",
    "upperQB = quartilesB[0.75]\n",
    "iqrB = upperQB-lowerQB\n",
    "\n",
    "quartilesD = temperateDeath['Deathrate'].quantile([.25,.5,.75])\n",
    "lowerQD = quartilesD[0.25]\n",
    "upperQD = quartilesD[0.75]\n",
    "iqrD = upperQD-lowerQD\n",
    "\n",
    "print(f\"The lower quartile of Temperate Birthrates is: {round(lowerQB,2)}\")\n",
    "print(f\"The upper quartile of Temperate Birthrates is: {round(upperQB,2)}\")\n",
    "print(f\"The interquartile range of Temperate Birthrates is: {round(iqrB,2)}\")\n",
    "print('')\n",
    "print(f\"The lower quartile of Temperate Deathrates is: {round(lowerQD,2)}\")\n",
    "print(f\"The upper quartile of Temperate Deathrates is: {round(upperQD,2)}\")\n",
    "print(f\"The interquartile range of Temperate Deathrates is: {round(iqrD,2)}\")\n",
    "\n",
    "lowerBoundBT = lowerQB - (1.5*iqrB)\n",
    "upperBoundBT = upperQB + (1.5*iqrB)\n",
    "\n",
    "lowerBoundDT = lowerQD - (1.5*iqrD)\n",
    "upperBoundDT = upperQD + (1.5*iqrD)\n",
    "print('')\n",
    "print(f\"Values below {round(lowerBoundBT,2)} could be outliers for births.\")\n",
    "print(f\"Values above {round(upperBoundBT,2)} could be outliers for births.\")\n",
    "print(f\"Values below {round(lowerBoundDT,2)} could be outliers for deaths.\")\n",
    "print(f\"Values above {round(upperBoundDT,2)} could be outliers for deaths.\")\n",
    "print('')\n",
    "temperateBirthOutliers = temperateBirth.loc[(temperateBirth['Birthrate'] < lowerBoundBT) | (temperateBirth['Birthrate'] > upperBoundBT)]\n",
    "temperateBirthOutCount = temperateBirthOutliers['Birthrate'].count()\n",
    "print(('there are {0} birth outliers.').format(temperateBirthOutCount))\n",
    "\n",
    "temperateDeathOutliers = temperateDeath.loc[(temperateDeath['Deathrate'] < lowerBoundDT) | (temperateDeath['Deathrate'] > upperBoundDT)]\n",
    "temperateDeathOutCount = temperateDeathOutliers['Deathrate'].count()\n",
    "print(('there are {0} death outliers.').format(temperateDeathOutCount))\n",
    "\n",
    "print('')\n",
    "quartilesB = mediterraneanBirth['Birthrate'].quantile([.25,.5,.75])\n",
    "lowerQB = quartilesB[0.25]\n",
    "upperQB = quartilesB[0.75]\n",
    "iqrB = upperQB-lowerQB\n",
    "\n",
    "quartilesD = mediterraneanDeath['Deathrate'].quantile([.25,.5,.75])\n",
    "lowerQD = quartilesD[0.25]\n",
    "upperQD = quartilesD[0.75]\n",
    "iqrD = upperQD-lowerQD\n",
    "\n",
    "print(f\"The lower quartile of Mediterranean Birthrates is: {round(lowerQB,2)}\")\n",
    "print(f\"The upper quartile of Mediterranean Birthrates is: {round(upperQB,2)}\")\n",
    "print(f\"The interquartile range of Mediterranean Birthrates is: {round(iqrB,2)}\")\n",
    "print('')\n",
    "print(f\"The lower quartile of Mediterranean Deathrates is: {round(lowerQD,2)}\")\n",
    "print(f\"The upper quartile of Mediterranean Deathrates is: {round(upperQD,2)}\")\n",
    "print(f\"The interquartile range of Mediterranean Deathrates is: {round(iqrD,2)}\")\n",
    "\n",
    "lowerBoundBM = lowerQB - (1.5*iqrB)\n",
    "upperBoundBM = upperQB + (1.5*iqrB)\n",
    "\n",
    "lowerBoundDM = lowerQD - (1.5*iqrD)\n",
    "upperBoundDM= upperQD + (1.5*iqrD)\n",
    "print('')\n",
    "print(f\"Values below {round(lowerBoundBM,2)} could be outliers for births.\")\n",
    "print(f\"Values above {round(upperBoundBM,2)} could be outliers for births.\")\n",
    "print(f\"Values below {round(lowerBoundDM,2)} could be outliers for deaths.\")\n",
    "print(f\"Values above {round(upperBoundDM,2)} could be outliers for deaths.\")\n",
    "\n",
    "print('')\n",
    "mediterraneanBirthOutliers = mediterraneanBirth.loc[(mediterraneanBirth['Birthrate'] < lowerBoundBM) | (mediterraneanBirth['Birthrate'] > upperBoundBM)]\n",
    "mediterraneanBirthOutCount = mediterraneanBirthOutliers['Birthrate'].count()\n",
    "print(('there are {0} birth outliers.').format(mediterraneanBirthOutCount))\n",
    "\n",
    "mediterraneanDeathOutliers = mediterraneanDeath.loc[(mediterraneanDeath['Deathrate'] < lowerBoundDM) | (mediterraneanDeath['Deathrate'] > upperBoundDM)]\n",
    "mediterraneanDeathOutCount = mediterraneanDeathOutliers['Deathrate'].count()\n",
    "print(('there are {0} death outliers.').format(mediterraneanDeathOutCount))\n",
    "\n",
    "print('')"
   ]
  },
  {
   "cell_type": "code",
   "execution_count": 9,
   "metadata": {},
   "outputs": [
    {
     "name": "stdout",
     "output_type": "stream",
     "text": [
      "Dry Tropical has no birth outliers.\n",
      "\n",
      "Dry Tropical has the following death outliers:\n",
      "26    Botswana \n",
      "Name: Country, dtype: object\n",
      "\n",
      "Wet Tropical has no birth outliers.\n",
      "\n",
      "Wet Tropical has the following death outliers:\n",
      "39     Central African Rep. \n",
      "117                 Liberia \n",
      "125                  Malawi \n",
      "142              Mozambique \n",
      "183            Sierra Leone \n",
      "194               Swaziland \n",
      "225                  Zambia \n",
      "226                Zimbabwe \n",
      "Name: Country, dtype: object\n",
      "\n",
      "Temperate has the following birth outliers:\n",
      "37     Cape Verde \n",
      "74     Gaza Strip \n",
      "116       Lesotho \n",
      "170        Rwanda \n",
      "222     West Bank \n",
      "Name: Country, dtype: object\n",
      "\n",
      "Temperate has the following death outliers:\n",
      "116    Lesotho \n",
      "170     Rwanda \n",
      "Name: Country, dtype: object\n",
      "\n",
      "Mediterranean has the following birth outliers:\n",
      "106    Kazakhstan \n",
      "Name: Country, dtype: object\n",
      "\n",
      "Mediterranean has the following death outliers:\n",
      "18    Belarus \n",
      "Name: Country, dtype: object\n",
      "\n"
     ]
    }
   ],
   "source": [
    "#find the outlier countries in the given the climate\n",
    "dryTropCountriesB = birthMortalityDF.loc[(birthMortalityDF['Birthrate'] > upperBoundBDT) & (birthMortalityDF['Climate'] == 1)]\n",
    "wetTropCountriesB = birthMortalityDF.loc[(birthMortalityDF['Birthrate'] > upperBoundBWT) & (birthMortalityDF['Climate'] == 2)]\n",
    "tempCountriesB = birthMortalityDF.loc[(birthMortalityDF['Birthrate'] > upperBoundBT) & (birthMortalityDF['Climate'] == 3)]\n",
    "medCountriesB = birthMortalityDF.loc[(birthMortalityDF['Birthrate'] > upperBoundBM) & (birthMortalityDF['Climate'] == 4)]\n",
    "\n",
    "dryTropCountriesD = birthMortalityDF.loc[(birthMortalityDF['Deathrate'] > upperBoundDDT) & (birthMortalityDF['Climate'] == 1)]\n",
    "wetTropCountriesD = birthMortalityDF.loc[(birthMortalityDF['Deathrate'] > upperBoundDWT) & (birthMortalityDF['Climate'] == 2)]\n",
    "tempCountriesD = birthMortalityDF.loc[(birthMortalityDF['Deathrate'] > upperBoundDT) & (birthMortalityDF['Climate'] == 3)]\n",
    "medCountriesD = birthMortalityDF.loc[(birthMortalityDF['Deathrate'] > upperBoundDM) & (birthMortalityDF['Climate'] == 4)]\n",
    "if len(dryTropCountriesB) == 0:\n",
    "    print(\"Dry Tropical has no birth outliers.\")\n",
    "    print('')\n",
    "else:\n",
    "    print(\"Dry Tropical has the following birth outliers:\")\n",
    "    print(dryTropCountriesB.loc[:,'Country'])\n",
    "    print('')\n",
    "if len(dryTropCountriesD) == 0:\n",
    "    print(\"Dry Tropical has no death outliers.\")\n",
    "    print('')\n",
    "else:\n",
    "    print(\"Dry Tropical has the following death outliers:\")\n",
    "    print(dryTropCountriesD.loc[:,'Country'])\n",
    "    print('')\n",
    "    \n",
    "if len(wetTropCountriesB) == 0:\n",
    "    print(\"Wet Tropical has no birth outliers.\")\n",
    "    print('')\n",
    "else:\n",
    "    print(\"Wet Tropical has the following birth outliers:\")\n",
    "    print(wetTropCountriesB.loc[:,'Country'])\n",
    "    print('')\n",
    "if len(wetTropCountriesD) == 0:\n",
    "    print(\"Wet Tropical has no death outliers.\")\n",
    "    print('')\n",
    "else:\n",
    "    print(\"Wet Tropical has the following death outliers:\")\n",
    "    print(wetTropCountriesD.loc[:,'Country'])\n",
    "    print('')\n",
    "    \n",
    "if len(tempCountriesB) == 0:\n",
    "    print(\"Temperate has no birth outliers.\")\n",
    "    print('')\n",
    "else:\n",
    "    print(\"Temperate has the following birth outliers:\")\n",
    "    print(tempCountriesB.loc[:,'Country'])\n",
    "    print('')  \n",
    "if len(tempCountriesD) == 0:\n",
    "    print(\"Temperate has no death outliers.\")\n",
    "    print('')\n",
    "else:\n",
    "    print(\"Temperate has the following death outliers:\")\n",
    "    print(tempCountriesD.loc[:,'Country'])\n",
    "    print('')\n",
    "    \n",
    "if len(medCountriesB) == 0:\n",
    "    print(\"Mediterranean has no birth outliers.\")\n",
    "    print('')\n",
    "else:\n",
    "    print(\"Mediterranean has the following birth outliers:\")\n",
    "    print(medCountriesB.loc[:,'Country'])\n",
    "    print('')\n",
    "if len(medCountriesD) == 0:\n",
    "    print(\"Mediterranean has no death outliers.\")\n",
    "    print('')\n",
    "else:\n",
    "    print(\"Mediterranean has the following death outliers:\")\n",
    "    print(medCountriesD.loc[:,'Country'])\n",
    "    print('')"
   ]
  },
  {
   "cell_type": "code",
   "execution_count": 10,
   "metadata": {},
   "outputs": [
    {
     "data": {
      "image/png": "[encoded data removed]",
      "text/plain": [
       "<Figure size 432x288 with 1 Axes>"
      ]
     },
     "metadata": {
      "needs_background": "light"
     },
     "output_type": "display_data"
    }
   ],
   "source": [
    "#plot data analysis\n",
    "dryTropical = birthMortalityDF[(birthMortalityDF[\"Climate\"] == 1)]['Birthrate']\n",
    "wetTropical = birthMortalityDF[(birthMortalityDF[\"Climate\"] == 2)]['Birthrate']\n",
    "temperate = birthMortalityDF[(birthMortalityDF[\"Climate\"] == 3)]['Birthrate']\n",
    "mediterranean = birthMortalityDF[(birthMortalityDF[\"Climate\"] == 4)]['Birthrate']\n",
    "\n",
    "summaryClimate = [dryTropical, wetTropical, temperate, mediterranean]\n",
    "\n",
    "fig1, ax1 = plt.subplots()\n",
    "ax1.set_title('Birthrate vs Climate')\n",
    "ax1.set_ylabel('Birthrate')\n",
    "ax1.set_xlabel('Climates')\n",
    "ax1.set_xticklabels(['Dry Tropical', 'Wet Tropical', 'Temperate', 'Mediterranean'])\n",
    "ax1.boxplot(summaryClimate)\n",
    "\n",
    "plt.show()"
   ]
  },
  {
   "cell_type": "code",
   "execution_count": 11,
   "metadata": {},
   "outputs": [
    {
     "data": {
      "image/png": "[encoded data removed]",
      "text/plain": [
       "<Figure size 432x288 with 1 Axes>"
      ]
     },
     "metadata": {
      "needs_background": "light"
     },
     "output_type": "display_data"
    }
   ],
   "source": [
    "#plot data for analysis\n",
    "dryTropical = birthMortalityDF[(birthMortalityDF[\"Climate\"] == 1)]['Deathrate']\n",
    "wetTropical = birthMortalityDF[(birthMortalityDF[\"Climate\"] == 2)]['Deathrate']\n",
    "temperate = birthMortalityDF[(birthMortalityDF[\"Climate\"] == 3)]['Deathrate']\n",
    "mediterranean = birthMortalityDF[(birthMortalityDF[\"Climate\"] == 4)]['Deathrate']\n",
    "\n",
    "summaryClimate = [dryTropical, wetTropical, temperate, mediterranean]\n",
    "\n",
    "fig1, ax1 = plt.subplots()\n",
    "ax1.set_title('Deathrate vs Climate')\n",
    "ax1.set_ylabel('Deathrate')\n",
    "ax1.set_xlabel('Climates')\n",
    "ax1.set_xticklabels(['Dry Tropical', 'Wet Tropical', 'Temperate', 'Mediterranean'])\n",
    "ax1.boxplot(summaryClimate)\n",
    "\n",
    "plt.show()"
   ]
  },
  {
   "cell_type": "code",
   "execution_count": 48,
   "metadata": {},
   "outputs": [
    {
     "data": {
      "image/png": "[encoded data removed]",
      "text/plain": [
       "<Figure size 432x288 with 1 Axes>"
      ]
     },
     "metadata": {
      "needs_background": "light"
     },
     "output_type": "display_data"
    },
    {
     "name": "stdout",
     "output_type": "stream",
     "text": [
      "The correlation between both factors is 0.41\n"
     ]
    }
   ],
   "source": [
    "birthRatesDF = birthMortalityDF['Birthrate']\n",
    "deathRatesDF = birthMortalityDF['Deathrate']\n",
    "\n",
    "#Graph the data in a scatter plot\n",
    "plt.scatter(birthRatesDF, deathRatesDF, marker=\"o\", facecolors=\"red\", edgecolors=\"black\", alpha=0.75)\n",
    "plt.xlabel('Birth Rates')\n",
    "plt.ylabel('Death Rates')\n",
    "plt.title('Birth Rate vs Death rate of the world')\n",
    "plt.savefig('birthdeath', bbox_inches=\"tight\")\n",
    "plt.figsize=(200,200)\n",
    "\n",
    "# format the x and y ticks\n",
    "#plt.xticks([]),plt.yticks([])\n",
    "plt.xlim(0,60)\n",
    "plt.ylim(0,60)\n",
    "plt.show()\n",
    "\n",
    "correlation = st.pearsonr(birthRatesDF,deathRatesDF)\n",
    "#print(correlation)\n",
    "\n",
    "print(f\"The correlation between both factors is {round(correlation[0],2)}\")"
   ]
  },
  {
   "cell_type": "markdown",
   "metadata": {},
   "source": [
    "#Preview the dataframe\n",
    "df.head()"
   ]
  },
  {
   "cell_type": "code",
   "execution_count": 13,
   "metadata": {},
   "outputs": [],
   "source": [
    "#Create a dataframe with just the data that you need to show the area of each region\n",
    "area_df = rawCountriesDF[['Country','Region','Area (sq. mi.)']]\n",
    "#area_df\n",
    "area_df_grouped = area_df.groupby(['Region'])\n",
    "#area_df_grouped.head()"
   ]
  },
  {
   "cell_type": "code",
   "execution_count": 14,
   "metadata": {},
   "outputs": [],
   "source": [
    "#Consolidate the DF to region and area\n",
    "area_totaled = area_df_grouped.sum()['Area (sq. mi.)']\n",
    "#area_totaled\n",
    "area_totaled_df = area_totaled.reset_index()\n",
    "#area_totaled_df"
   ]
  },
  {
   "cell_type": "code",
   "execution_count": 15,
   "metadata": {
    "scrolled": true
   },
   "outputs": [
    {
     "data": {
      "image/png": "[encoded data removed]",
      "text/plain": [
       "<Figure size 720x720 with 1 Axes>"
      ]
     },
     "metadata": {},
     "output_type": "display_data"
    }
   ],
   "source": [
    "#Create a pie graph that displayed the data from the area dataframe\n",
    "plot = area_totaled_df.plot.pie(y='Area (sq. mi.)', figsize=(10, 10), labels=area_totaled_df['Region'], \n",
    "                                autopct=\"%1.1f%%\", shadow=True, startangle=140).legend(bbox_to_anchor=(1.1, 1))\n",
    "plt.savefig('areapie', bbox_inches=\"tight\")"
   ]
  },
  {
   "cell_type": "code",
   "execution_count": 16,
   "metadata": {},
   "outputs": [],
   "source": [
    "#Create a dataframe from the original data that includes country, region, literacy %, phones per 1000, and population\n",
    "new_df = rawCountriesDF[['Country','Region','Population', 'Literacy (%)', 'Phones (per 1000)']]\n",
    "new_df.head()\n",
    "\n",
    "#Convert commas to decimals for literacy % and phones per 1000\n",
    "literacy_converted= new_df['Literacy (%)'].str.replace(',','.')\n",
    "literacy =  literacy_converted.astype(float)\n",
    "phones_converted=new_df['Phones (per 1000)'].str.replace(',','.')\n",
    "phones =  phones_converted.astype(float)\n",
    "country = new_df['Country']"
   ]
  },
  {
   "cell_type": "code",
   "execution_count": 17,
   "metadata": {},
   "outputs": [],
   "source": [
    "#Create DF to show just the columns you will plot\n",
    "phone_literacy_df = pd.DataFrame({'Country': country, 'Literacy': literacy, 'Phones': phones})\n",
    "#phone_literacy_df\n",
    "\n",
    "#Remove all rows that do not have value:\n",
    "phone_literacy_filtered = phone_literacy_df.dropna()\n",
    "#print(len(phone_literacy_filtered))\n",
    "#phone_literacy_filtered\n",
    "\n",
    "#Create DF for only rows that are numeric:\n",
    "phone_literacy_numeric = phone_literacy_filtered[['Literacy', 'Phones']]\n",
    "#print(phone_literacy_numeric)\n",
    "#phone_literacy_numeric"
   ]
  },
  {
   "cell_type": "code",
   "execution_count": 18,
   "metadata": {},
   "outputs": [],
   "source": [
    "#Create two separate list variables for the x and y axis - one for country vs literacy % and one for country vs phones per 1000\n",
    "literacy = phone_literacy_numeric['Literacy']\n",
    "phones = phone_literacy_numeric['Phones']\n",
    "#print(literacy)\n",
    "#print(phones)"
   ]
  },
  {
   "cell_type": "code",
   "execution_count": 19,
   "metadata": {},
   "outputs": [
    {
     "data": {
      "image/png": "[encoded data removed]",
      "text/plain": [
       "<Figure size 432x288 with 1 Axes>"
      ]
     },
     "metadata": {
      "needs_background": "light"
     },
     "output_type": "display_data"
    },
    {
     "name": "stdout",
     "output_type": "stream",
     "text": [
      "The correlation between both factors is 0.6\n"
     ]
    }
   ],
   "source": [
    "#Graph the data in a scatter plot\n",
    "plt.scatter(literacy, phones, marker=\"o\", facecolors=\"red\", edgecolors=\"black\", alpha=0.75)\n",
    "plt.xlabel('Literacy %')\n",
    "plt.ylabel('Phones (per 1000)')\n",
    "plt.title('Phones per 1000 People vs Literacy Percentage Across the World')\n",
    "plt.figsize=(200,200)\n",
    "\n",
    "# format the x and y ticks\n",
    "#plt.xticks([]),plt.yticks([])\n",
    "plt.xlim(0,100)\n",
    "plt.ylim(0,1000)\n",
    "plt.show()\n",
    "\n",
    "correlation = st.pearsonr(literacy,phones)\n",
    "#print(correlation)\n",
    "\n",
    "print(f\"The correlation between both factors is {round(correlation[0],2)}\")"
   ]
  },
  {
   "cell_type": "code",
   "execution_count": 20,
   "metadata": {},
   "outputs": [
    {
     "name": "stdout",
     "output_type": "stream",
     "text": [
      "y = 6.65x + -325.28\n"
     ]
    },
    {
     "data": {
      "image/png": "[encoded data removed]",
      "text/plain": [
       "<Figure size 432x288 with 1 Axes>"
      ]
     },
     "metadata": {
      "needs_background": "light"
     },
     "output_type": "display_data"
    },
    {
     "name": "stdout",
     "output_type": "stream",
     "text": [
      "The correlation between both factors is 0.6\n"
     ]
    }
   ],
   "source": [
    "#Create a regression across the above scatter plot\n",
    "(slope, intercept, rvalue, pvalue, stderr) = linregress(literacy, phones)\n",
    "regress_values = literacy * slope + intercept\n",
    "line_eq = \"y = \" + str(round(slope,2)) + \"x + \" + str(round(intercept,2))\n",
    "plt.scatter(literacy, phones, marker=\"o\", facecolors=\"red\", edgecolors=\"black\", alpha=0.75)\n",
    "print(line_eq)\n",
    "plt.plot(literacy,regress_values)\n",
    "plt.annotate(line_eq,(20,700),fontsize=15,color=\"blue\")\n",
    "plt.ylabel('Phones (per 1000))')\n",
    "plt.xlabel('Literacy %')\n",
    "plt.title('Phones per 1000 People vs Literacy Percentage Across the World')\n",
    "plt.savefig('phoneslit', bbox_inches=\"tight\")\n",
    "plt.figsize=(200,200)\n",
    "plt.show()\n",
    "print(f\"The correlation between both factors is {round(correlation[0],2)}\")"
   ]
  },
  {
   "cell_type": "code",
   "execution_count": 21,
   "metadata": {},
   "outputs": [
    {
     "data": {
      "text/html": [
       "<div>\n",
       "<style scoped>\n",
       "    .dataframe tbody tr th:only-of-type {\n",
       "        vertical-align: middle;\n",
       "    }\n",
       "\n",
       "    .dataframe tbody tr th {\n",
       "        vertical-align: top;\n",
       "    }\n",
       "\n",
       "    .dataframe thead th {\n",
       "        text-align: right;\n",
       "    }\n",
       "</style>\n",
       "<table border=\"1\" class=\"dataframe\">\n",
       "  <thead>\n",
       "    <tr style=\"text-align: right;\">\n",
       "      <th></th>\n",
       "      <th>Country</th>\n",
       "      <th>Region</th>\n",
       "      <th>Net migration</th>\n",
       "    </tr>\n",
       "  </thead>\n",
       "  <tbody>\n",
       "    <tr>\n",
       "      <td>0</td>\n",
       "      <td>Afghanistan</td>\n",
       "      <td>ASIA (EX. NEAR EAST)</td>\n",
       "      <td>23,06</td>\n",
       "    </tr>\n",
       "    <tr>\n",
       "      <td>1</td>\n",
       "      <td>Albania</td>\n",
       "      <td>EASTERN EUROPE</td>\n",
       "      <td>-4,93</td>\n",
       "    </tr>\n",
       "    <tr>\n",
       "      <td>2</td>\n",
       "      <td>Algeria</td>\n",
       "      <td>NORTHERN AFRICA</td>\n",
       "      <td>-0,39</td>\n",
       "    </tr>\n",
       "    <tr>\n",
       "      <td>3</td>\n",
       "      <td>American Samoa</td>\n",
       "      <td>OCEANIA</td>\n",
       "      <td>-20,71</td>\n",
       "    </tr>\n",
       "    <tr>\n",
       "      <td>4</td>\n",
       "      <td>Andorra</td>\n",
       "      <td>WESTERN EUROPE</td>\n",
       "      <td>6,6</td>\n",
       "    </tr>\n",
       "  </tbody>\n",
       "</table>\n",
       "</div>"
      ],
      "text/plain": [
       "           Country                               Region Net migration\n",
       "0     Afghanistan         ASIA (EX. NEAR EAST)                  23,06\n",
       "1         Albania   EASTERN EUROPE                              -4,93\n",
       "2         Algeria   NORTHERN AFRICA                             -0,39\n",
       "3  American Samoa   OCEANIA                                    -20,71\n",
       "4         Andorra   WESTERN EUROPE                                6,6"
      ]
     },
     "execution_count": 21,
     "metadata": {},
     "output_type": "execute_result"
    }
   ],
   "source": [
    "#Create dataframe with Country, Region, and Net Migration\n",
    "df_data = rawCountriesDF[['Country', 'Region', 'Net migration']]\n",
    "df_data.head()"
   ]
  },
  {
   "cell_type": "code",
   "execution_count": 22,
   "metadata": {},
   "outputs": [],
   "source": [
    "#Convert commas to decimals for net migration\n",
    "migration_converted= df_data['Net migration'].str.replace(',','.')\n",
    "migration =  migration_converted.astype(float)\n",
    "country = df_data['Country']\n",
    "region = df_data['Region']"
   ]
  },
  {
   "cell_type": "code",
   "execution_count": 23,
   "metadata": {},
   "outputs": [],
   "source": [
    "#Convert values into new dataframe\n",
    "migration_df = pd.DataFrame({'Country': country, 'Region': region, 'Net Migration': migration})\n",
    "#migration_df"
   ]
  },
  {
   "cell_type": "code",
   "execution_count": 24,
   "metadata": {},
   "outputs": [
    {
     "data": {
      "text/html": [
       "<div>\n",
       "<style scoped>\n",
       "    .dataframe tbody tr th:only-of-type {\n",
       "        vertical-align: middle;\n",
       "    }\n",
       "\n",
       "    .dataframe tbody tr th {\n",
       "        vertical-align: top;\n",
       "    }\n",
       "\n",
       "    .dataframe thead th {\n",
       "        text-align: right;\n",
       "    }\n",
       "</style>\n",
       "<table border=\"1\" class=\"dataframe\">\n",
       "  <thead>\n",
       "    <tr style=\"text-align: right;\">\n",
       "      <th></th>\n",
       "      <th>Region</th>\n",
       "      <th>Net Migration</th>\n",
       "    </tr>\n",
       "  </thead>\n",
       "  <tbody>\n",
       "    <tr>\n",
       "      <td>0</td>\n",
       "      <td>ASIA (EX. NEAR EAST)</td>\n",
       "      <td>1.372500</td>\n",
       "    </tr>\n",
       "    <tr>\n",
       "      <td>1</td>\n",
       "      <td>BALTICS</td>\n",
       "      <td>-2.033333</td>\n",
       "    </tr>\n",
       "    <tr>\n",
       "      <td>2</td>\n",
       "      <td>C.W. OF IND. STATES</td>\n",
       "      <td>-2.033333</td>\n",
       "    </tr>\n",
       "    <tr>\n",
       "      <td>3</td>\n",
       "      <td>EASTERN EUROPE</td>\n",
       "      <td>-0.647500</td>\n",
       "    </tr>\n",
       "    <tr>\n",
       "      <td>4</td>\n",
       "      <td>LATIN AMER. &amp; CARIB</td>\n",
       "      <td>-1.494444</td>\n",
       "    </tr>\n",
       "  </tbody>\n",
       "</table>\n",
       "</div>"
      ],
      "text/plain": [
       "                                Region  Net Migration\n",
       "0        ASIA (EX. NEAR EAST)                1.372500\n",
       "1  BALTICS                                  -2.033333\n",
       "2                 C.W. OF IND. STATES       -2.033333\n",
       "3  EASTERN EUROPE                           -0.647500\n",
       "4              LATIN AMER. & CARIB          -1.494444"
      ]
     },
     "execution_count": 24,
     "metadata": {},
     "output_type": "execute_result"
    }
   ],
   "source": [
    "#Create a dataframe with just the data that you need\n",
    "migration_grouped = migration_df.groupby(['Region']).mean()\n",
    "migration_grouped_reset = migration_grouped.reset_index()\n",
    "migration_grouped_reset.head()"
   ]
  },
  {
   "cell_type": "code",
   "execution_count": 25,
   "metadata": {},
   "outputs": [
    {
     "data": {
      "image/png": "[encoded data removed]",
      "text/plain": [
       "<Figure size 432x288 with 1 Axes>"
      ]
     },
     "metadata": {
      "needs_background": "light"
     },
     "output_type": "display_data"
    }
   ],
   "source": [
    "#Create the bar graph for Net Migration and Region\n",
    "x=migration_grouped_reset[\"Region\"]\n",
    "y=migration_grouped_reset[\"Net Migration\"]\n",
    "# Shade the area between y1 and line y=0\n",
    "plt.bar(x, y,\n",
    "                 facecolor=\"red\", # The fill color\n",
    "                 color='blue',       # The outline color\n",
    "                 alpha=0.5)          # Transparency of the fill\n",
    "#Show the plot\n",
    "#plt.ylim(0,y.max)\n",
    "#plt.yticks(np.arange(0, 200))\n",
    "#plt.xticks(rotation='horizontal')\n",
    "plt.xticks(rotation='vertical')\n",
    "#plt.yticks([])\n",
    "plt.xlim(0,10)\n",
    "plt.ylim(-3.5,3.5)\n",
    "plt.title('Net Migration per Region')\n",
    "plt.savefig('regionmigration', bbox_inches=\"tight\")\n",
    "plt.show()\n",
    "#go through every row of the dataframe\n",
    "#for row in data.itterrows():\n",
    "#net migration / population density\n",
    "#only plot top X"
   ]
  },
  {
   "cell_type": "code",
   "execution_count": 26,
   "metadata": {},
   "outputs": [],
   "source": [
    "#Remove rows with data that does not exist\n",
    "countryRowRemovedDF = rawCountriesDF.dropna()"
   ]
  },
  {
   "cell_type": "code",
   "execution_count": 27,
   "metadata": {},
   "outputs": [
    {
     "name": "stderr",
     "output_type": "stream",
     "text": [
      "/Users/juliedundas/opt/anaconda3/lib/python3.7/site-packages/ipykernel_launcher.py:2: SettingWithCopyWarning: \n",
      "A value is trying to be set on a copy of a slice from a DataFrame.\n",
      "Try using .loc[row_indexer,col_indexer] = value instead\n",
      "\n",
      "See the caveats in the documentation: http://pandas.pydata.org/pandas-docs/stable/user_guide/indexing.html#returning-a-view-versus-a-copy\n",
      "  \n",
      "/Users/juliedundas/opt/anaconda3/lib/python3.7/site-packages/ipykernel_launcher.py:3: SettingWithCopyWarning: \n",
      "A value is trying to be set on a copy of a slice from a DataFrame.\n",
      "Try using .loc[row_indexer,col_indexer] = value instead\n",
      "\n",
      "See the caveats in the documentation: http://pandas.pydata.org/pandas-docs/stable/user_guide/indexing.html#returning-a-view-versus-a-copy\n",
      "  This is separate from the ipykernel package so we can avoid doing imports until\n"
     ]
    }
   ],
   "source": [
    "#Remove commas from the numbers\n",
    "countryRowRemovedDF[\"Infant mortality (per 1000 births)\"] = countryRowRemovedDF[\"Infant mortality (per 1000 births)\"].str.replace(',', \".\")\n",
    "countryRowRemovedDF[\"Pop. Density (per sq. mi.)\"] = countryRowRemovedDF[\"Pop. Density (per sq. mi.)\"].str.replace(',', \".\")"
   ]
  },
  {
   "cell_type": "code",
   "execution_count": 28,
   "metadata": {},
   "outputs": [],
   "source": [
    "#Set the x-values and convert the numbers to floats\n",
    "x_values = countryRowRemovedDF[\"Infant mortality (per 1000 births)\"].astype(float)\n",
    "#x_values"
   ]
  },
  {
   "cell_type": "code",
   "execution_count": 29,
   "metadata": {},
   "outputs": [],
   "source": [
    "#Set the y-values and convert the numbers to floats\n",
    "y_values = countryRowRemovedDF[\"Pop. Density (per sq. mi.)\"].astype(float)\n",
    "#y_values"
   ]
  },
  {
   "cell_type": "code",
   "execution_count": 30,
   "metadata": {},
   "outputs": [
    {
     "data": {
      "text/html": [
       "<div>\n",
       "<style scoped>\n",
       "    .dataframe tbody tr th:only-of-type {\n",
       "        vertical-align: middle;\n",
       "    }\n",
       "\n",
       "    .dataframe tbody tr th {\n",
       "        vertical-align: top;\n",
       "    }\n",
       "\n",
       "    .dataframe thead th {\n",
       "        text-align: right;\n",
       "    }\n",
       "</style>\n",
       "<table border=\"1\" class=\"dataframe\">\n",
       "  <thead>\n",
       "    <tr style=\"text-align: right;\">\n",
       "      <th></th>\n",
       "      <th>Country</th>\n",
       "      <th>Region</th>\n",
       "      <th>Population</th>\n",
       "      <th>Area (sq. mi.)</th>\n",
       "      <th>Pop. Density (per sq. mi.)</th>\n",
       "      <th>Coastline (coast/area ratio)</th>\n",
       "      <th>Net migration</th>\n",
       "      <th>Infant mortality (per 1000 births)</th>\n",
       "      <th>GDP ($ per capita)</th>\n",
       "      <th>Literacy (%)</th>\n",
       "      <th>Phones (per 1000)</th>\n",
       "      <th>Arable (%)</th>\n",
       "      <th>Crops (%)</th>\n",
       "      <th>Other (%)</th>\n",
       "      <th>Climate</th>\n",
       "      <th>Birthrate</th>\n",
       "      <th>Deathrate</th>\n",
       "      <th>Agriculture</th>\n",
       "      <th>Industry</th>\n",
       "      <th>Service</th>\n",
       "    </tr>\n",
       "  </thead>\n",
       "  <tbody>\n",
       "    <tr>\n",
       "      <td>77</td>\n",
       "      <td>Ghana</td>\n",
       "      <td>SUB-SAHARAN AFRICA</td>\n",
       "      <td>22409572</td>\n",
       "      <td>239460</td>\n",
       "      <td>93.6</td>\n",
       "      <td>0,23</td>\n",
       "      <td>-0,64</td>\n",
       "      <td>51.43</td>\n",
       "      <td>2200.0</td>\n",
       "      <td>74,8</td>\n",
       "      <td>14,4</td>\n",
       "      <td>16,26</td>\n",
       "      <td>9,67</td>\n",
       "      <td>74,07</td>\n",
       "      <td>2</td>\n",
       "      <td>30,52</td>\n",
       "      <td>9,72</td>\n",
       "      <td>0,366</td>\n",
       "      <td>0,246</td>\n",
       "      <td>0,387</td>\n",
       "    </tr>\n",
       "    <tr>\n",
       "      <td>168</td>\n",
       "      <td>Romania</td>\n",
       "      <td>EASTERN EUROPE</td>\n",
       "      <td>22303552</td>\n",
       "      <td>237500</td>\n",
       "      <td>93.9</td>\n",
       "      <td>0,09</td>\n",
       "      <td>-0,13</td>\n",
       "      <td>26.43</td>\n",
       "      <td>7000.0</td>\n",
       "      <td>98,4</td>\n",
       "      <td>196,9</td>\n",
       "      <td>40,82</td>\n",
       "      <td>2,25</td>\n",
       "      <td>56,93</td>\n",
       "      <td>3</td>\n",
       "      <td>10,7</td>\n",
       "      <td>11,77</td>\n",
       "      <td>0,101</td>\n",
       "      <td>0,35</td>\n",
       "      <td>0,549</td>\n",
       "    </tr>\n",
       "    <tr>\n",
       "      <td>12</td>\n",
       "      <td>Austria</td>\n",
       "      <td>WESTERN EUROPE</td>\n",
       "      <td>8192880</td>\n",
       "      <td>83870</td>\n",
       "      <td>97.7</td>\n",
       "      <td>0,00</td>\n",
       "      <td>2</td>\n",
       "      <td>4.66</td>\n",
       "      <td>30000.0</td>\n",
       "      <td>98,0</td>\n",
       "      <td>452,2</td>\n",
       "      <td>16,91</td>\n",
       "      <td>0,86</td>\n",
       "      <td>82,23</td>\n",
       "      <td>3</td>\n",
       "      <td>8,74</td>\n",
       "      <td>9,76</td>\n",
       "      <td>0,018</td>\n",
       "      <td>0,304</td>\n",
       "      <td>0,678</td>\n",
       "    </tr>\n",
       "    <tr>\n",
       "      <td>202</td>\n",
       "      <td>Togo</td>\n",
       "      <td>SUB-SAHARAN AFRICA</td>\n",
       "      <td>5548702</td>\n",
       "      <td>56785</td>\n",
       "      <td>97.7</td>\n",
       "      <td>0,10</td>\n",
       "      <td>0</td>\n",
       "      <td>66.61</td>\n",
       "      <td>1500.0</td>\n",
       "      <td>60,9</td>\n",
       "      <td>10,6</td>\n",
       "      <td>46,15</td>\n",
       "      <td>2,21</td>\n",
       "      <td>51,64</td>\n",
       "      <td>2</td>\n",
       "      <td>37,01</td>\n",
       "      <td>9,83</td>\n",
       "      <td>0,395</td>\n",
       "      <td>0,204</td>\n",
       "      <td>0,401</td>\n",
       "    </tr>\n",
       "    <tr>\n",
       "      <td>9</td>\n",
       "      <td>Armenia</td>\n",
       "      <td>C.W. OF IND. STATES</td>\n",
       "      <td>2976372</td>\n",
       "      <td>29800</td>\n",
       "      <td>99.9</td>\n",
       "      <td>0,00</td>\n",
       "      <td>-6,47</td>\n",
       "      <td>23.28</td>\n",
       "      <td>3500.0</td>\n",
       "      <td>98,6</td>\n",
       "      <td>195,7</td>\n",
       "      <td>17,55</td>\n",
       "      <td>2,3</td>\n",
       "      <td>80,15</td>\n",
       "      <td>4</td>\n",
       "      <td>12,07</td>\n",
       "      <td>8,23</td>\n",
       "      <td>0,239</td>\n",
       "      <td>0,343</td>\n",
       "      <td>0,418</td>\n",
       "    </tr>\n",
       "  </tbody>\n",
       "</table>\n",
       "</div>"
      ],
      "text/plain": [
       "      Country                               Region  Population  \\\n",
       "77     Ghana   SUB-SAHARAN AFRICA                     22409572   \n",
       "168  Romania   EASTERN EUROPE                         22303552   \n",
       "12   Austria   WESTERN EUROPE                          8192880   \n",
       "202     Togo   SUB-SAHARAN AFRICA                      5548702   \n",
       "9    Armenia                  C.W. OF IND. STATES      2976372   \n",
       "\n",
       "     Area (sq. mi.) Pop. Density (per sq. mi.) Coastline (coast/area ratio)  \\\n",
       "77           239460                       93.6                         0,23   \n",
       "168          237500                       93.9                         0,09   \n",
       "12            83870                       97.7                         0,00   \n",
       "202           56785                       97.7                         0,10   \n",
       "9             29800                       99.9                         0,00   \n",
       "\n",
       "    Net migration Infant mortality (per 1000 births)  GDP ($ per capita)  \\\n",
       "77          -0,64                              51.43              2200.0   \n",
       "168         -0,13                              26.43              7000.0   \n",
       "12              2                               4.66             30000.0   \n",
       "202             0                              66.61              1500.0   \n",
       "9           -6,47                              23.28              3500.0   \n",
       "\n",
       "    Literacy (%) Phones (per 1000) Arable (%) Crops (%) Other (%) Climate  \\\n",
       "77          74,8              14,4      16,26      9,67     74,07       2   \n",
       "168         98,4             196,9      40,82      2,25     56,93       3   \n",
       "12          98,0             452,2      16,91      0,86     82,23       3   \n",
       "202         60,9              10,6      46,15      2,21     51,64       2   \n",
       "9           98,6             195,7      17,55       2,3     80,15       4   \n",
       "\n",
       "    Birthrate Deathrate Agriculture Industry Service  \n",
       "77      30,52      9,72       0,366    0,246   0,387  \n",
       "168      10,7     11,77       0,101     0,35   0,549  \n",
       "12       8,74      9,76       0,018    0,304   0,678  \n",
       "202     37,01      9,83       0,395    0,204   0,401  \n",
       "9       12,07      8,23       0,239    0,343   0,418  "
      ]
     },
     "execution_count": 30,
     "metadata": {},
     "output_type": "execute_result"
    }
   ],
   "source": [
    "#Check for outliers\n",
    "countryRowRemovedDF.sort_values(by=['Pop. Density (per sq. mi.)']).tail()"
   ]
  },
  {
   "cell_type": "code",
   "execution_count": 31,
   "metadata": {},
   "outputs": [
    {
     "name": "stdout",
     "output_type": "stream",
     "text": [
      "y = -5.59x + 512.16\n"
     ]
    }
   ],
   "source": [
    "#Determine linear model for data\n",
    "x_values = countryRowRemovedDF[\"Infant mortality (per 1000 births)\"].astype(float)\n",
    "y_values = countryRowRemovedDF[\"Pop. Density (per sq. mi.)\"].astype(float)\n",
    "(slope, intercept, rvalue, pvalue, stderr) = linregress(x_values, y_values)\n",
    "regress_values = x_values * slope + intercept\n",
    "line_eq = \"y = \" + str(round(slope,2)) + \"x + \" + str(round(intercept,2))\n",
    "print(line_eq)"
   ]
  },
  {
   "cell_type": "code",
   "execution_count": 32,
   "metadata": {},
   "outputs": [
    {
     "data": {
      "image/png": "[encoded data removed]",
      "text/plain": [
       "<Figure size 432x288 with 1 Axes>"
      ]
     },
     "metadata": {
      "needs_background": "light"
     },
     "output_type": "display_data"
    }
   ],
   "source": [
    "#Graph the data with the linear model included\n",
    "(slope, intercept, rvalue, pvalue, stderr) = linregress(x_values, y_values)\n",
    "regress_values = x_values * slope + intercept\n",
    "line_eq = \"y = \" + str(round(slope,2)) + \"x + \" + str(round(intercept,2))\n",
    "plt.scatter(x_values, y_values, marker=\"o\", facecolors=\"red\", edgecolors=\"black\")\n",
    "plt.plot(x_values,regress_values,\"r-\")\n",
    "plt.plot(figsize=(100,500))\n",
    "plt.ylim(0,1500)\n",
    "plt.annotate(line_eq,(40,600),fontsize=15,color=\"black\")\n",
    "plt.xlabel(\"Infant mortality (per 1000 births)\")\n",
    "plt.ylabel(\"Pop. Density (per sq. mi.)\")\n",
    "plt.title(\"Infant Mortality vs Population Density\")\n",
    "plt.savefig('infantmortcountry', bbox_inches=\"tight\")\n",
    "plt.show()"
   ]
  },
  {
   "cell_type": "code",
   "execution_count": 33,
   "metadata": {},
   "outputs": [
    {
     "name": "stdout",
     "output_type": "stream",
     "text": [
      "The correlation between both factors is -0.14\n"
     ]
    }
   ],
   "source": [
    "correlation = st.pearsonr(x_values, y_values)\n",
    "correlation\n",
    "print(f\"The correlation between both factors is {round(correlation[0],2)}\")"
   ]
  },
  {
   "cell_type": "code",
   "execution_count": 34,
   "metadata": {},
   "outputs": [
    {
     "name": "stdout",
     "output_type": "stream",
     "text": [
      "The lower quartile of Infant mortality is: 9.99\n",
      "The upper quartile of Population density is: 64.6\n",
      "The interquartile range of Population density is: 54.61\n",
      "The the median of Population density is: 24.31 \n",
      "Values below -71.92 could be outliers.\n",
      "Values above 146.51 could be outliers.\n"
     ]
    }
   ],
   "source": [
    "# If the data is in a dataframe, we use pandas to give quartile calculations\n",
    "quartiles = x_values.quantile([.25,.5,.75])\n",
    "lowerq = quartiles[0.25].round(2)\n",
    "upperq = quartiles[0.75].round(2)\n",
    "iqr = (upperq-lowerq).round(2)\n",
    "\n",
    "print(f\"The lower quartile of Infant mortality is: {lowerq}\")\n",
    "print(f\"The upper quartile of Population density is: {upperq}\")\n",
    "print(f\"The interquartile range of Population density is: {iqr}\")\n",
    "print(f\"The the median of Population density is: {quartiles[0.5]} \")\n",
    "\n",
    "lower_bound = (lowerq - (1.5*iqr)).round(2)\n",
    "upper_bound = (upperq + (1.5*iqr)).round(2)\n",
    "print(f\"Values below {lower_bound} could be outliers.\")\n",
    "print(f\"Values above {upper_bound} could be outliers.\")"
   ]
  },
  {
   "cell_type": "code",
   "execution_count": 35,
   "metadata": {},
   "outputs": [
    {
     "name": "stdout",
     "output_type": "stream",
     "text": [
      "The lower quartile of Infant mortality is: 26.8\n",
      "The upper quartile of Infant mortality is: 164.7\n",
      "The interquartile range of Infant mortality is: 137.9\n",
      "The the median of Infant mortality is: 66.9 \n",
      "Values below -180.05 could be outliers.\n",
      "Values above 371.55 could be outliers.\n"
     ]
    }
   ],
   "source": [
    "# If the data is in a dataframe, we use pandas to give quartile calculations\n",
    "quartiles = y_values.quantile([.25,.5,.75])\n",
    "lowerq = quartiles[0.25].round(2)\n",
    "upperq = quartiles[0.75].round(2)\n",
    "iqr = (upperq-lowerq).round(2)\n",
    "\n",
    "print(f\"The lower quartile of Infant mortality is: {lowerq}\")\n",
    "print(f\"The upper quartile of Infant mortality is: {upperq}\")\n",
    "print(f\"The interquartile range of Infant mortality is: {iqr}\")\n",
    "print(f\"The the median of Infant mortality is: {quartiles[0.5]} \")\n",
    "\n",
    "lower_bound = (lowerq - (1.5*iqr)).round(2)\n",
    "upper_bound = (upperq + (1.5*iqr)).round(2)\n",
    "print(f\"Values below {lower_bound} could be outliers.\")\n",
    "print(f\"Values above {upper_bound} could be outliers.\")"
   ]
  },
  {
   "cell_type": "code",
   "execution_count": 36,
   "metadata": {},
   "outputs": [],
   "source": [
    "#Create variables for the next data frame\n",
    "infant = countryRowRemovedDF[\"Infant mortality (per 1000 births)\"].astype(float)\n",
    "pop = countryRowRemovedDF[\"Pop. Density (per sq. mi.)\"].astype(float)\n",
    "country = countryRowRemovedDF[\"Country\"]\n",
    "region = countryRowRemovedDF[\"Region\"]"
   ]
  },
  {
   "cell_type": "code",
   "execution_count": 37,
   "metadata": {},
   "outputs": [],
   "source": [
    "#Create the dataframe \n",
    "combined_df = pd.DataFrame({\"Country\": country, \"Region\": region, \"Infant mortality (per 1000 births)\": infant, \"Pop. Density (per sq. mi.)\": pop})"
   ]
  },
  {
   "cell_type": "code",
   "execution_count": 38,
   "metadata": {},
   "outputs": [
    {
     "data": {
      "text/html": [
       "<div>\n",
       "<style scoped>\n",
       "    .dataframe tbody tr th:only-of-type {\n",
       "        vertical-align: middle;\n",
       "    }\n",
       "\n",
       "    .dataframe tbody tr th {\n",
       "        vertical-align: top;\n",
       "    }\n",
       "\n",
       "    .dataframe thead th {\n",
       "        text-align: right;\n",
       "    }\n",
       "</style>\n",
       "<table border=\"1\" class=\"dataframe\">\n",
       "  <thead>\n",
       "    <tr style=\"text-align: right;\">\n",
       "      <th></th>\n",
       "      <th>Country</th>\n",
       "      <th>Region</th>\n",
       "      <th>Infant mortality (per 1000 births)</th>\n",
       "      <th>Pop. Density (per sq. mi.)</th>\n",
       "    </tr>\n",
       "  </thead>\n",
       "  <tbody>\n",
       "    <tr>\n",
       "      <td>0</td>\n",
       "      <td>Afghanistan</td>\n",
       "      <td>ASIA (EX. NEAR EAST)</td>\n",
       "      <td>163.07</td>\n",
       "      <td>48.0</td>\n",
       "    </tr>\n",
       "    <tr>\n",
       "      <td>1</td>\n",
       "      <td>Albania</td>\n",
       "      <td>EASTERN EUROPE</td>\n",
       "      <td>21.52</td>\n",
       "      <td>124.6</td>\n",
       "    </tr>\n",
       "    <tr>\n",
       "      <td>2</td>\n",
       "      <td>Algeria</td>\n",
       "      <td>NORTHERN AFRICA</td>\n",
       "      <td>31.00</td>\n",
       "      <td>13.8</td>\n",
       "    </tr>\n",
       "    <tr>\n",
       "      <td>6</td>\n",
       "      <td>Anguilla</td>\n",
       "      <td>LATIN AMER. &amp; CARIB</td>\n",
       "      <td>21.03</td>\n",
       "      <td>132.1</td>\n",
       "    </tr>\n",
       "    <tr>\n",
       "      <td>7</td>\n",
       "      <td>Antigua &amp; Barbuda</td>\n",
       "      <td>LATIN AMER. &amp; CARIB</td>\n",
       "      <td>19.46</td>\n",
       "      <td>156.0</td>\n",
       "    </tr>\n",
       "    <tr>\n",
       "      <td>...</td>\n",
       "      <td>...</td>\n",
       "      <td>...</td>\n",
       "      <td>...</td>\n",
       "      <td>...</td>\n",
       "    </tr>\n",
       "    <tr>\n",
       "      <td>218</td>\n",
       "      <td>Venezuela</td>\n",
       "      <td>LATIN AMER. &amp; CARIB</td>\n",
       "      <td>22.20</td>\n",
       "      <td>28.2</td>\n",
       "    </tr>\n",
       "    <tr>\n",
       "      <td>219</td>\n",
       "      <td>Vietnam</td>\n",
       "      <td>ASIA (EX. NEAR EAST)</td>\n",
       "      <td>25.95</td>\n",
       "      <td>256.1</td>\n",
       "    </tr>\n",
       "    <tr>\n",
       "      <td>224</td>\n",
       "      <td>Yemen</td>\n",
       "      <td>NEAR EAST</td>\n",
       "      <td>61.50</td>\n",
       "      <td>40.6</td>\n",
       "    </tr>\n",
       "    <tr>\n",
       "      <td>225</td>\n",
       "      <td>Zambia</td>\n",
       "      <td>SUB-SAHARAN AFRICA</td>\n",
       "      <td>88.29</td>\n",
       "      <td>15.3</td>\n",
       "    </tr>\n",
       "    <tr>\n",
       "      <td>226</td>\n",
       "      <td>Zimbabwe</td>\n",
       "      <td>SUB-SAHARAN AFRICA</td>\n",
       "      <td>67.69</td>\n",
       "      <td>31.3</td>\n",
       "    </tr>\n",
       "  </tbody>\n",
       "</table>\n",
       "<p>179 rows × 4 columns</p>\n",
       "</div>"
      ],
      "text/plain": [
       "                Country                               Region  \\\n",
       "0          Afghanistan         ASIA (EX. NEAR EAST)            \n",
       "1              Albania   EASTERN EUROPE                        \n",
       "2              Algeria   NORTHERN AFRICA                       \n",
       "6             Anguilla               LATIN AMER. & CARIB       \n",
       "7    Antigua & Barbuda               LATIN AMER. & CARIB       \n",
       "..                  ...                                  ...   \n",
       "218          Venezuela               LATIN AMER. & CARIB       \n",
       "219            Vietnam         ASIA (EX. NEAR EAST)            \n",
       "224              Yemen   NEAR EAST                             \n",
       "225             Zambia   SUB-SAHARAN AFRICA                    \n",
       "226           Zimbabwe   SUB-SAHARAN AFRICA                    \n",
       "\n",
       "     Infant mortality (per 1000 births)  Pop. Density (per sq. mi.)  \n",
       "0                                163.07                        48.0  \n",
       "1                                 21.52                       124.6  \n",
       "2                                 31.00                        13.8  \n",
       "6                                 21.03                       132.1  \n",
       "7                                 19.46                       156.0  \n",
       "..                                  ...                         ...  \n",
       "218                               22.20                        28.2  \n",
       "219                               25.95                       256.1  \n",
       "224                               61.50                        40.6  \n",
       "225                               88.29                        15.3  \n",
       "226                               67.69                        31.3  \n",
       "\n",
       "[179 rows x 4 columns]"
      ]
     },
     "execution_count": 38,
     "metadata": {},
     "output_type": "execute_result"
    }
   ],
   "source": [
    "#Show the new data frame\n",
    "combined_df"
   ]
  },
  {
   "cell_type": "code",
   "execution_count": 39,
   "metadata": {},
   "outputs": [
    {
     "data": {
      "text/html": [
       "<div>\n",
       "<style scoped>\n",
       "    .dataframe tbody tr th:only-of-type {\n",
       "        vertical-align: middle;\n",
       "    }\n",
       "\n",
       "    .dataframe tbody tr th {\n",
       "        vertical-align: top;\n",
       "    }\n",
       "\n",
       "    .dataframe thead th {\n",
       "        text-align: right;\n",
       "    }\n",
       "</style>\n",
       "<table border=\"1\" class=\"dataframe\">\n",
       "  <thead>\n",
       "    <tr style=\"text-align: right;\">\n",
       "      <th></th>\n",
       "      <th>Infant mortality (per 1000 births)</th>\n",
       "      <th>Pop. Density (per sq. mi.)</th>\n",
       "    </tr>\n",
       "    <tr>\n",
       "      <th>Region</th>\n",
       "      <th></th>\n",
       "      <th></th>\n",
       "    </tr>\n",
       "  </thead>\n",
       "  <tbody>\n",
       "    <tr>\n",
       "      <td>ASIA (EX. NEAR EAST)</td>\n",
       "      <td>1055.45</td>\n",
       "      <td>35152.1</td>\n",
       "    </tr>\n",
       "    <tr>\n",
       "      <td>BALTICS</td>\n",
       "      <td>17.42</td>\n",
       "      <td>64.5</td>\n",
       "    </tr>\n",
       "    <tr>\n",
       "      <td>C.W. OF IND. STATES</td>\n",
       "      <td>477.11</td>\n",
       "      <td>540.1</td>\n",
       "    </tr>\n",
       "    <tr>\n",
       "      <td>EASTERN EUROPE</td>\n",
       "      <td>89.51</td>\n",
       "      <td>645.5</td>\n",
       "    </tr>\n",
       "    <tr>\n",
       "      <td>LATIN AMER. &amp; CARIB</td>\n",
       "      <td>873.12</td>\n",
       "      <td>5930.5</td>\n",
       "    </tr>\n",
       "  </tbody>\n",
       "</table>\n",
       "</div>"
      ],
      "text/plain": [
       "                                     Infant mortality (per 1000 births)  \\\n",
       "Region                                                                    \n",
       "ASIA (EX. NEAR EAST)                                            1055.45   \n",
       "BALTICS                                                           17.42   \n",
       "C.W. OF IND. STATES                                              477.11   \n",
       "EASTERN EUROPE                                                    89.51   \n",
       "LATIN AMER. & CARIB                                              873.12   \n",
       "\n",
       "                                     Pop. Density (per sq. mi.)  \n",
       "Region                                                           \n",
       "ASIA (EX. NEAR EAST)                                    35152.1  \n",
       "BALTICS                                                    64.5  \n",
       "C.W. OF IND. STATES                                       540.1  \n",
       "EASTERN EUROPE                                            645.5  \n",
       "LATIN AMER. & CARIB                                      5930.5  "
      ]
     },
     "execution_count": 39,
     "metadata": {},
     "output_type": "execute_result"
    }
   ],
   "source": [
    "#Use groupby to group the data frame by region\n",
    "new_df_grouped = combined_df.groupby([\"Region\"]).sum()\n",
    "new_df_grouped.head()"
   ]
  },
  {
   "cell_type": "code",
   "execution_count": 40,
   "metadata": {},
   "outputs": [
    {
     "data": {
      "image/png": "[encoded data removed]",
      "text/plain": [
       "<Figure size 432x288 with 1 Axes>"
      ]
     },
     "metadata": {
      "needs_background": "light"
     },
     "output_type": "display_data"
    }
   ],
   "source": [
    "#Plot the dataframe in a scatter plot\n",
    "plt.scatter(new_df_grouped[\"Infant mortality (per 1000 births)\"], new_df_grouped[\"Pop. Density (per sq. mi.)\"], marker=\"o\", facecolors=\"red\", edgecolors=\"black\")\n",
    "plt.show()"
   ]
  },
  {
   "cell_type": "code",
   "execution_count": 41,
   "metadata": {},
   "outputs": [
    {
     "data": {
      "image/png": "[encoded data removed]",
      "text/plain": [
       "<Figure size 432x288 with 1 Axes>"
      ]
     },
     "metadata": {
      "needs_background": "light"
     },
     "output_type": "display_data"
    }
   ],
   "source": [
    "#Plot the dataframe with the regression line\n",
    "(slope, intercept, rvalue, pvalue, stderr) = linregress(new_df_grouped[\"Infant mortality (per 1000 births)\"], new_df_grouped[\"Pop. Density (per sq. mi.)\"])\n",
    "regress_values = new_df_grouped[\"Infant mortality (per 1000 births)\"] * slope + intercept\n",
    "line_eq = \"y = \" + str(round(slope,2)) + \"x + \" + str(round(intercept,2))\n",
    "plt.scatter(new_df_grouped[\"Infant mortality (per 1000 births)\"], new_df_grouped[\"Pop. Density (per sq. mi.)\"], marker=\"o\", facecolors=\"red\", edgecolors=\"black\")\n",
    "plt.plot(new_df_grouped[\"Infant mortality (per 1000 births)\"],regress_values,\"r-\")\n",
    "plt.annotate(line_eq,(30,20000),fontsize=15,color=\"black\")\n",
    "plt.xlabel(\"Infant mortality (per 1000 births)\")\n",
    "plt.ylabel(\"Pop. Density (per sq. mi.)\")\n",
    "plt.title(\"Infant Mortality vs Population Density\")\n",
    "plt.savefig('infantmortregion', bbox_inches=\"tight\")\n",
    "plt.show()"
   ]
  },
  {
   "cell_type": "code",
   "execution_count": 42,
   "metadata": {},
   "outputs": [
    {
     "name": "stdout",
     "output_type": "stream",
     "text": [
      "The correlation between both factors is 0.23\n"
     ]
    }
   ],
   "source": [
    "correlation = st.pearsonr(new_df_grouped[\"Infant mortality (per 1000 births)\"], new_df_grouped[\"Pop. Density (per sq. mi.)\"])\n",
    "correlation\n",
    "print(f\"The correlation between both factors is {round(correlation[0],2)}\")"
   ]
  },
  {
   "cell_type": "code",
   "execution_count": 43,
   "metadata": {},
   "outputs": [
    {
     "name": "stdout",
     "output_type": "stream",
     "text": [
      "The lower quartile of Population density is: 565.8\n",
      "The upper quartile of Population density is: 3215.9\n",
      "The interquartile range of Population density is: 2650.1\n",
      "The the median of Population density is: 1272.0 \n",
      "Values below -3409.35 could be outliers.\n",
      "Values above 7191.05 could be outliers.\n"
     ]
    }
   ],
   "source": [
    "# If the data is in a dataframe, we use pandas to give quartile calculations\n",
    "quartiles = new_df_grouped[\"Pop. Density (per sq. mi.)\"].quantile([.25,.5,.75])\n",
    "lowerq = quartiles[0.25].round(2)\n",
    "upperq = quartiles[0.75].round(2)\n",
    "iqr = (upperq-lowerq).round(2)\n",
    "\n",
    "print(f\"The lower quartile of Population density is: {lowerq}\")\n",
    "print(f\"The upper quartile of Population density is: {upperq}\")\n",
    "print(f\"The interquartile range of Population density is: {iqr}\")\n",
    "print(f\"The the median of Population density is: {quartiles[0.5]} \")\n",
    "\n",
    "lower_bound = (lowerq - (1.5*iqr)).round(2)\n",
    "upper_bound = (upperq + (1.5*iqr)).round(2)\n",
    "print(f\"Values below {lower_bound} could be outliers.\")\n",
    "print(f\"Values above {upper_bound} could be outliers.\")"
   ]
  },
  {
   "cell_type": "code",
   "execution_count": 44,
   "metadata": {},
   "outputs": [
    {
     "name": "stdout",
     "output_type": "stream",
     "text": [
      "The lower quartile of Infant mortality is: 81.85\n",
      "The upper quartile of Infant mortality is: 675.12\n",
      "The interquartile range of Infant mortality is: 593.27\n",
      "The the median of Infant mortality is: 260.76 \n",
      "Values below -808.06 could be outliers.\n",
      "Values above 1565.02 could be outliers.\n"
     ]
    }
   ],
   "source": [
    "# If the data is in a dataframe, we use pandas to give quartile calculations\n",
    "quartiles = new_df_grouped[\"Infant mortality (per 1000 births)\"].quantile([.25,.5,.75])\n",
    "lowerq = quartiles[0.25].round(2)\n",
    "upperq = quartiles[0.75].round(2)\n",
    "iqr = (upperq-lowerq).round(2)\n",
    "\n",
    "print(f\"The lower quartile of Infant mortality is: {lowerq}\")\n",
    "print(f\"The upper quartile of Infant mortality is: {upperq}\")\n",
    "print(f\"The interquartile range of Infant mortality is: {iqr}\")\n",
    "print(f\"The the median of Infant mortality is: {quartiles[0.5]} \")\n",
    "\n",
    "lower_bound = (lowerq - (1.5*iqr)).round(2)\n",
    "upper_bound = (upperq + (1.5*iqr)).round(2)\n",
    "print(f\"Values below {lower_bound} could be outliers.\")\n",
    "print(f\"Values above {upper_bound} could be outliers.\")"
   ]
  },
  {
   "cell_type": "code",
   "execution_count": 46,
   "metadata": {
    "scrolled": true
   },
   "outputs": [
    {
     "name": "stdout",
     "output_type": "stream",
     "text": [
      "What is the relationship between death/birth rates and the climates? The data does suggest there are some factors that climate plays. In temperate and mediterranean regions, the spread is tighter with lower death and birth rates compared to other areas like tropics and desert. Conicidently this also tends to be where more first world countries are and may have more to do with economic factors though climate has a part of that as well.\n",
      "\n",
      "How much area does each region/ continent take up? Based on our analysis, we can see that the largest region of the world is Sub-Saharan Africa, which takes up 17.9% of the entire world's land mass. Conversely, the smallest land area is Eastern Europe, which only takes up 0.8% of the world's land mass.\n",
      "\n",
      "What is the relationship between phone ownership and literacy per region? Based on our analysis, the correlation between phone usage and literacy is 0.60. Since this is stronger than 0.40, we can consider this to be a relatively strong, positive correlation. There is relatively strong correlation that the higher the literacy percentage, the greater the phone ownership throughout the world\n",
      "\n",
      "Net migration rates show that there are regions where there are more people entering than leaving an area. The negative migration rate means that more people are leaving than entering a region. When the graph shows a number closer to zero that means that there is a balance in the net migration  equal number of immigrants and emigrants. in this graph we can see what migration is per region.\n",
      "\n",
      "Is there correlation between infant mortality rates and population density per country? The correlation between infant mortality and population density for each country is -.14. This indicates there is no correlation between infant mortality and population density.\n",
      "\n",
      "Is there correlation between infant mortality rates and population density per region? The data for infant mortality and population density grouped by region is .23 which also indicates there is a weak, positive correlation between infant mortality and population density.\n"
     ]
    }
   ],
   "source": [
    "\n",
    "###Summarize your findings\n",
    "print('What is the relationship between death/birth rates and the climates? The data does suggest there are some factors that climate plays. In temperate and mediterranean regions, the spread is tighter with lower death and birth rates compared to other areas like tropics and desert. Conicidently this also tends to be where more first world countries are and may have more to do with economic factors though climate has a part of that as well.')\n",
    "print('')\n",
    "print(\"How much area does each region/ continent take up? Based on our analysis, we can see that the largest region of the world is Sub-Saharan Africa, which takes up 17.9% of the entire world's land mass. Conversely, the smallest land area is Eastern Europe, which only takes up 0.8% of the world's land mass.\")\n",
    "print('')\n",
    "print(\"What is the relationship between phone ownership and literacy per region? Based on our analysis, the correlation between phone usage and literacy is 0.60. Since this is stronger than 0.40, we can consider this to be a relatively strong, positive correlation. There is relatively strong correlation that the higher the literacy percentage, the greater the phone ownership throughout the world\")\n",
    "print('')\n",
    "print(\"Net migration rates show that there are regions where there are more people entering than leaving an area. The negative migration rate means that more people are leaving than entering a region. When the graph shows a number closer to zero that means that there is a balance in the net migration  equal number of immigrants and emigrants. in this graph we can see what migration is per region.\")\n",
    "print('')\n",
    "print(\"Is there correlation between infant mortality rates and population density per country? The correlation between infant mortality and population density for each country is -.14. This indicates there is no correlation between infant mortality and population density.\") \n",
    "print('')\n",
    "print(\"Is there correlation between infant mortality rates and population density per region? The data for infant mortality and population density grouped by region is .23 which also indicates there is a weak, positive correlation between infant mortality and population density.\")"
   ]
  },
  {
   "cell_type": "code",
   "execution_count": null,
   "metadata": {},
   "outputs": [],
   "source": []
  },
  {
   "cell_type": "code",
   "execution_count": null,
   "metadata": {},
   "outputs": [],
   "source": []
  },
  {
   "cell_type": "code",
   "execution_count": null,
   "metadata": {},
   "outputs": [],
   "source": []
  }
 ],
 "metadata": {
  "file_extension": ".py",
  "kernelspec": {
   "display_name": "Python 3",
   "language": "python",
   "name": "python3"
  },
  "language_info": {
   "codemirror_mode": {
    "name": "ipython",
    "version": 3
   },
   "file_extension": ".py",
   "mimetype": "text/x-python",
   "name": "python",
   "nbconvert_exporter": "python",
   "pygments_lexer": "ipython3",
   "version": "3.7.4"
  },
  "mimetype": "text/x-python",
  "name": "python",
  "npconvert_exporter": "python",
  "pygments_lexer": "ipython3",
  "version": 3
 },
 "nbformat": 4,
 "nbformat_minor": 2
}
